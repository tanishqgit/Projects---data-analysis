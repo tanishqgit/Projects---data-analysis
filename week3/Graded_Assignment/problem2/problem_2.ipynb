{
 "cells": [
  {
   "cell_type": "code",
   "execution_count": 1,
   "id": "52fa19ed",
   "metadata": {},
   "outputs": [],
   "source": [
    "import numpy as np\n",
    "import pandas as pd\n",
    "import seaborn as sns\n",
    "import matplotlib.pyplot as plt\n",
    "%matplotlib inline\n",
    "import statsmodels.api as sm\n",
    "import scipy.stats as stats\n",
    "import os"
   ]
  },
  {
   "cell_type": "code",
   "execution_count": 2,
   "id": "7f63869c",
   "metadata": {},
   "outputs": [],
   "source": [
    "df = pd.read_csv('Survey-1.csv')"
   ]
  },
  {
   "cell_type": "code",
   "execution_count": 3,
   "id": "ba4827ba",
   "metadata": {},
   "outputs": [
    {
     "data": {
      "text/html": [
       "<div>\n",
       "<style scoped>\n",
       "    .dataframe tbody tr th:only-of-type {\n",
       "        vertical-align: middle;\n",
       "    }\n",
       "\n",
       "    .dataframe tbody tr th {\n",
       "        vertical-align: top;\n",
       "    }\n",
       "\n",
       "    .dataframe thead th {\n",
       "        text-align: right;\n",
       "    }\n",
       "</style>\n",
       "<table border=\"1\" class=\"dataframe\">\n",
       "  <thead>\n",
       "    <tr style=\"text-align: right;\">\n",
       "      <th></th>\n",
       "      <th>ID</th>\n",
       "      <th>Gender</th>\n",
       "      <th>Age</th>\n",
       "      <th>Class</th>\n",
       "      <th>Major</th>\n",
       "      <th>Grad Intention</th>\n",
       "      <th>GPA</th>\n",
       "      <th>Employment</th>\n",
       "      <th>Salary</th>\n",
       "      <th>Social Networking</th>\n",
       "      <th>Satisfaction</th>\n",
       "      <th>Spending</th>\n",
       "      <th>Computer</th>\n",
       "      <th>Text Messages</th>\n",
       "    </tr>\n",
       "  </thead>\n",
       "  <tbody>\n",
       "    <tr>\n",
       "      <th>0</th>\n",
       "      <td>1</td>\n",
       "      <td>Female</td>\n",
       "      <td>20</td>\n",
       "      <td>Junior</td>\n",
       "      <td>Other</td>\n",
       "      <td>Yes</td>\n",
       "      <td>2.9</td>\n",
       "      <td>Full-Time</td>\n",
       "      <td>50.0</td>\n",
       "      <td>1</td>\n",
       "      <td>3</td>\n",
       "      <td>350</td>\n",
       "      <td>Laptop</td>\n",
       "      <td>200</td>\n",
       "    </tr>\n",
       "    <tr>\n",
       "      <th>1</th>\n",
       "      <td>2</td>\n",
       "      <td>Male</td>\n",
       "      <td>23</td>\n",
       "      <td>Senior</td>\n",
       "      <td>Management</td>\n",
       "      <td>Yes</td>\n",
       "      <td>3.6</td>\n",
       "      <td>Part-Time</td>\n",
       "      <td>25.0</td>\n",
       "      <td>1</td>\n",
       "      <td>4</td>\n",
       "      <td>360</td>\n",
       "      <td>Laptop</td>\n",
       "      <td>50</td>\n",
       "    </tr>\n",
       "    <tr>\n",
       "      <th>2</th>\n",
       "      <td>3</td>\n",
       "      <td>Male</td>\n",
       "      <td>21</td>\n",
       "      <td>Junior</td>\n",
       "      <td>Other</td>\n",
       "      <td>Yes</td>\n",
       "      <td>2.5</td>\n",
       "      <td>Part-Time</td>\n",
       "      <td>45.0</td>\n",
       "      <td>2</td>\n",
       "      <td>4</td>\n",
       "      <td>600</td>\n",
       "      <td>Laptop</td>\n",
       "      <td>200</td>\n",
       "    </tr>\n",
       "    <tr>\n",
       "      <th>3</th>\n",
       "      <td>4</td>\n",
       "      <td>Male</td>\n",
       "      <td>21</td>\n",
       "      <td>Junior</td>\n",
       "      <td>CIS</td>\n",
       "      <td>Yes</td>\n",
       "      <td>2.5</td>\n",
       "      <td>Full-Time</td>\n",
       "      <td>40.0</td>\n",
       "      <td>4</td>\n",
       "      <td>6</td>\n",
       "      <td>600</td>\n",
       "      <td>Laptop</td>\n",
       "      <td>250</td>\n",
       "    </tr>\n",
       "    <tr>\n",
       "      <th>4</th>\n",
       "      <td>5</td>\n",
       "      <td>Male</td>\n",
       "      <td>23</td>\n",
       "      <td>Senior</td>\n",
       "      <td>Other</td>\n",
       "      <td>Undecided</td>\n",
       "      <td>2.8</td>\n",
       "      <td>Unemployed</td>\n",
       "      <td>40.0</td>\n",
       "      <td>2</td>\n",
       "      <td>4</td>\n",
       "      <td>500</td>\n",
       "      <td>Laptop</td>\n",
       "      <td>100</td>\n",
       "    </tr>\n",
       "  </tbody>\n",
       "</table>\n",
       "</div>"
      ],
      "text/plain": [
       "   ID  Gender  Age   Class       Major Grad Intention  GPA  Employment  \\\n",
       "0   1  Female   20  Junior       Other            Yes  2.9   Full-Time   \n",
       "1   2    Male   23  Senior  Management            Yes  3.6   Part-Time   \n",
       "2   3    Male   21  Junior       Other            Yes  2.5   Part-Time   \n",
       "3   4    Male   21  Junior         CIS            Yes  2.5   Full-Time   \n",
       "4   5    Male   23  Senior       Other      Undecided  2.8  Unemployed   \n",
       "\n",
       "   Salary  Social Networking  Satisfaction  Spending Computer  Text Messages  \n",
       "0    50.0                  1             3       350   Laptop            200  \n",
       "1    25.0                  1             4       360   Laptop             50  \n",
       "2    45.0                  2             4       600   Laptop            200  \n",
       "3    40.0                  4             6       600   Laptop            250  \n",
       "4    40.0                  2             4       500   Laptop            100  "
      ]
     },
     "execution_count": 3,
     "metadata": {},
     "output_type": "execute_result"
    }
   ],
   "source": [
    "df.head()"
   ]
  },
  {
   "cell_type": "code",
   "execution_count": 4,
   "id": "96c6aa0c",
   "metadata": {},
   "outputs": [
    {
     "data": {
      "text/plain": [
       "(62, 14)"
      ]
     },
     "execution_count": 4,
     "metadata": {},
     "output_type": "execute_result"
    }
   ],
   "source": [
    "df.shape"
   ]
  },
  {
   "cell_type": "code",
   "execution_count": 5,
   "id": "b45501b1",
   "metadata": {},
   "outputs": [
    {
     "name": "stdout",
     "output_type": "stream",
     "text": [
      "<class 'pandas.core.frame.DataFrame'>\n",
      "RangeIndex: 62 entries, 0 to 61\n",
      "Data columns (total 14 columns):\n",
      " #   Column             Non-Null Count  Dtype  \n",
      "---  ------             --------------  -----  \n",
      " 0   ID                 62 non-null     int64  \n",
      " 1   Gender             62 non-null     object \n",
      " 2   Age                62 non-null     int64  \n",
      " 3   Class              62 non-null     object \n",
      " 4   Major              62 non-null     object \n",
      " 5   Grad Intention     62 non-null     object \n",
      " 6   GPA                62 non-null     float64\n",
      " 7   Employment         62 non-null     object \n",
      " 8   Salary             62 non-null     float64\n",
      " 9   Social Networking  62 non-null     int64  \n",
      " 10  Satisfaction       62 non-null     int64  \n",
      " 11  Spending           62 non-null     int64  \n",
      " 12  Computer           62 non-null     object \n",
      " 13  Text Messages      62 non-null     int64  \n",
      "dtypes: float64(2), int64(6), object(6)\n",
      "memory usage: 6.9+ KB\n"
     ]
    }
   ],
   "source": [
    "df.info()"
   ]
  },
  {
   "cell_type": "code",
   "execution_count": 6,
   "id": "ade9525c",
   "metadata": {},
   "outputs": [
    {
     "data": {
      "text/html": [
       "<div>\n",
       "<style scoped>\n",
       "    .dataframe tbody tr th:only-of-type {\n",
       "        vertical-align: middle;\n",
       "    }\n",
       "\n",
       "    .dataframe tbody tr th {\n",
       "        vertical-align: top;\n",
       "    }\n",
       "\n",
       "    .dataframe thead th {\n",
       "        text-align: right;\n",
       "    }\n",
       "</style>\n",
       "<table border=\"1\" class=\"dataframe\">\n",
       "  <thead>\n",
       "    <tr style=\"text-align: right;\">\n",
       "      <th></th>\n",
       "      <th>Gender</th>\n",
       "      <th>Age</th>\n",
       "      <th>Class</th>\n",
       "      <th>Major</th>\n",
       "      <th>Grad Intention</th>\n",
       "      <th>GPA</th>\n",
       "      <th>Employment</th>\n",
       "      <th>Salary</th>\n",
       "      <th>Social Networking</th>\n",
       "      <th>Satisfaction</th>\n",
       "      <th>Spending</th>\n",
       "      <th>Computer</th>\n",
       "      <th>Text Messages</th>\n",
       "    </tr>\n",
       "    <tr>\n",
       "      <th>ID</th>\n",
       "      <th></th>\n",
       "      <th></th>\n",
       "      <th></th>\n",
       "      <th></th>\n",
       "      <th></th>\n",
       "      <th></th>\n",
       "      <th></th>\n",
       "      <th></th>\n",
       "      <th></th>\n",
       "      <th></th>\n",
       "      <th></th>\n",
       "      <th></th>\n",
       "      <th></th>\n",
       "    </tr>\n",
       "  </thead>\n",
       "  <tbody>\n",
       "    <tr>\n",
       "      <th>1</th>\n",
       "      <td>Female</td>\n",
       "      <td>20</td>\n",
       "      <td>Junior</td>\n",
       "      <td>Other</td>\n",
       "      <td>Yes</td>\n",
       "      <td>2.9</td>\n",
       "      <td>Full-Time</td>\n",
       "      <td>50.0</td>\n",
       "      <td>1</td>\n",
       "      <td>3</td>\n",
       "      <td>350</td>\n",
       "      <td>Laptop</td>\n",
       "      <td>200</td>\n",
       "    </tr>\n",
       "    <tr>\n",
       "      <th>2</th>\n",
       "      <td>Male</td>\n",
       "      <td>23</td>\n",
       "      <td>Senior</td>\n",
       "      <td>Management</td>\n",
       "      <td>Yes</td>\n",
       "      <td>3.6</td>\n",
       "      <td>Part-Time</td>\n",
       "      <td>25.0</td>\n",
       "      <td>1</td>\n",
       "      <td>4</td>\n",
       "      <td>360</td>\n",
       "      <td>Laptop</td>\n",
       "      <td>50</td>\n",
       "    </tr>\n",
       "    <tr>\n",
       "      <th>3</th>\n",
       "      <td>Male</td>\n",
       "      <td>21</td>\n",
       "      <td>Junior</td>\n",
       "      <td>Other</td>\n",
       "      <td>Yes</td>\n",
       "      <td>2.5</td>\n",
       "      <td>Part-Time</td>\n",
       "      <td>45.0</td>\n",
       "      <td>2</td>\n",
       "      <td>4</td>\n",
       "      <td>600</td>\n",
       "      <td>Laptop</td>\n",
       "      <td>200</td>\n",
       "    </tr>\n",
       "    <tr>\n",
       "      <th>4</th>\n",
       "      <td>Male</td>\n",
       "      <td>21</td>\n",
       "      <td>Junior</td>\n",
       "      <td>CIS</td>\n",
       "      <td>Yes</td>\n",
       "      <td>2.5</td>\n",
       "      <td>Full-Time</td>\n",
       "      <td>40.0</td>\n",
       "      <td>4</td>\n",
       "      <td>6</td>\n",
       "      <td>600</td>\n",
       "      <td>Laptop</td>\n",
       "      <td>250</td>\n",
       "    </tr>\n",
       "    <tr>\n",
       "      <th>5</th>\n",
       "      <td>Male</td>\n",
       "      <td>23</td>\n",
       "      <td>Senior</td>\n",
       "      <td>Other</td>\n",
       "      <td>Undecided</td>\n",
       "      <td>2.8</td>\n",
       "      <td>Unemployed</td>\n",
       "      <td>40.0</td>\n",
       "      <td>2</td>\n",
       "      <td>4</td>\n",
       "      <td>500</td>\n",
       "      <td>Laptop</td>\n",
       "      <td>100</td>\n",
       "    </tr>\n",
       "  </tbody>\n",
       "</table>\n",
       "</div>"
      ],
      "text/plain": [
       "    Gender  Age   Class       Major Grad Intention  GPA  Employment  Salary  \\\n",
       "ID                                                                            \n",
       "1   Female   20  Junior       Other            Yes  2.9   Full-Time    50.0   \n",
       "2     Male   23  Senior  Management            Yes  3.6   Part-Time    25.0   \n",
       "3     Male   21  Junior       Other            Yes  2.5   Part-Time    45.0   \n",
       "4     Male   21  Junior         CIS            Yes  2.5   Full-Time    40.0   \n",
       "5     Male   23  Senior       Other      Undecided  2.8  Unemployed    40.0   \n",
       "\n",
       "    Social Networking  Satisfaction  Spending Computer  Text Messages  \n",
       "ID                                                                     \n",
       "1                   1             3       350   Laptop            200  \n",
       "2                   1             4       360   Laptop             50  \n",
       "3                   2             4       600   Laptop            200  \n",
       "4                   4             6       600   Laptop            250  \n",
       "5                   2             4       500   Laptop            100  "
      ]
     },
     "execution_count": 6,
     "metadata": {},
     "output_type": "execute_result"
    }
   ],
   "source": [
    "df.set_index('ID' ,inplace = True)\n",
    "df.head()"
   ]
  },
  {
   "cell_type": "code",
   "execution_count": 7,
   "id": "69155def",
   "metadata": {},
   "outputs": [
    {
     "data": {
      "text/plain": [
       "Gender               0\n",
       "Age                  0\n",
       "Class                0\n",
       "Major                0\n",
       "Grad Intention       0\n",
       "GPA                  0\n",
       "Employment           0\n",
       "Salary               0\n",
       "Social Networking    0\n",
       "Satisfaction         0\n",
       "Spending             0\n",
       "Computer             0\n",
       "Text Messages        0\n",
       "dtype: int64"
      ]
     },
     "execution_count": 7,
     "metadata": {},
     "output_type": "execute_result"
    }
   ],
   "source": [
    "df.isna().sum()"
   ]
  },
  {
   "cell_type": "code",
   "execution_count": 8,
   "id": "6f896ad2",
   "metadata": {},
   "outputs": [
    {
     "data": {
      "text/html": [
       "<div>\n",
       "<style scoped>\n",
       "    .dataframe tbody tr th:only-of-type {\n",
       "        vertical-align: middle;\n",
       "    }\n",
       "\n",
       "    .dataframe tbody tr th {\n",
       "        vertical-align: top;\n",
       "    }\n",
       "\n",
       "    .dataframe thead th {\n",
       "        text-align: right;\n",
       "    }\n",
       "</style>\n",
       "<table border=\"1\" class=\"dataframe\">\n",
       "  <thead>\n",
       "    <tr style=\"text-align: right;\">\n",
       "      <th></th>\n",
       "      <th>Age</th>\n",
       "      <th>GPA</th>\n",
       "      <th>Salary</th>\n",
       "      <th>Social Networking</th>\n",
       "      <th>Satisfaction</th>\n",
       "      <th>Spending</th>\n",
       "      <th>Text Messages</th>\n",
       "    </tr>\n",
       "  </thead>\n",
       "  <tbody>\n",
       "    <tr>\n",
       "      <th>count</th>\n",
       "      <td>62.000000</td>\n",
       "      <td>62.000000</td>\n",
       "      <td>62.000000</td>\n",
       "      <td>62.000000</td>\n",
       "      <td>62.000000</td>\n",
       "      <td>62.000000</td>\n",
       "      <td>62.000000</td>\n",
       "    </tr>\n",
       "    <tr>\n",
       "      <th>mean</th>\n",
       "      <td>21.129032</td>\n",
       "      <td>3.129032</td>\n",
       "      <td>48.548387</td>\n",
       "      <td>1.516129</td>\n",
       "      <td>3.741935</td>\n",
       "      <td>482.016129</td>\n",
       "      <td>246.209677</td>\n",
       "    </tr>\n",
       "    <tr>\n",
       "      <th>std</th>\n",
       "      <td>1.431311</td>\n",
       "      <td>0.377388</td>\n",
       "      <td>12.080912</td>\n",
       "      <td>0.844305</td>\n",
       "      <td>1.213793</td>\n",
       "      <td>221.953805</td>\n",
       "      <td>214.465950</td>\n",
       "    </tr>\n",
       "    <tr>\n",
       "      <th>min</th>\n",
       "      <td>18.000000</td>\n",
       "      <td>2.300000</td>\n",
       "      <td>25.000000</td>\n",
       "      <td>0.000000</td>\n",
       "      <td>1.000000</td>\n",
       "      <td>100.000000</td>\n",
       "      <td>0.000000</td>\n",
       "    </tr>\n",
       "    <tr>\n",
       "      <th>25%</th>\n",
       "      <td>20.000000</td>\n",
       "      <td>2.900000</td>\n",
       "      <td>40.000000</td>\n",
       "      <td>1.000000</td>\n",
       "      <td>3.000000</td>\n",
       "      <td>312.500000</td>\n",
       "      <td>100.000000</td>\n",
       "    </tr>\n",
       "    <tr>\n",
       "      <th>50%</th>\n",
       "      <td>21.000000</td>\n",
       "      <td>3.150000</td>\n",
       "      <td>50.000000</td>\n",
       "      <td>1.000000</td>\n",
       "      <td>4.000000</td>\n",
       "      <td>500.000000</td>\n",
       "      <td>200.000000</td>\n",
       "    </tr>\n",
       "    <tr>\n",
       "      <th>75%</th>\n",
       "      <td>22.000000</td>\n",
       "      <td>3.400000</td>\n",
       "      <td>55.000000</td>\n",
       "      <td>2.000000</td>\n",
       "      <td>4.000000</td>\n",
       "      <td>600.000000</td>\n",
       "      <td>300.000000</td>\n",
       "    </tr>\n",
       "    <tr>\n",
       "      <th>max</th>\n",
       "      <td>26.000000</td>\n",
       "      <td>3.900000</td>\n",
       "      <td>80.000000</td>\n",
       "      <td>4.000000</td>\n",
       "      <td>6.000000</td>\n",
       "      <td>1400.000000</td>\n",
       "      <td>900.000000</td>\n",
       "    </tr>\n",
       "  </tbody>\n",
       "</table>\n",
       "</div>"
      ],
      "text/plain": [
       "             Age        GPA     Salary  Social Networking  Satisfaction  \\\n",
       "count  62.000000  62.000000  62.000000          62.000000     62.000000   \n",
       "mean   21.129032   3.129032  48.548387           1.516129      3.741935   \n",
       "std     1.431311   0.377388  12.080912           0.844305      1.213793   \n",
       "min    18.000000   2.300000  25.000000           0.000000      1.000000   \n",
       "25%    20.000000   2.900000  40.000000           1.000000      3.000000   \n",
       "50%    21.000000   3.150000  50.000000           1.000000      4.000000   \n",
       "75%    22.000000   3.400000  55.000000           2.000000      4.000000   \n",
       "max    26.000000   3.900000  80.000000           4.000000      6.000000   \n",
       "\n",
       "          Spending  Text Messages  \n",
       "count    62.000000      62.000000  \n",
       "mean    482.016129     246.209677  \n",
       "std     221.953805     214.465950  \n",
       "min     100.000000       0.000000  \n",
       "25%     312.500000     100.000000  \n",
       "50%     500.000000     200.000000  \n",
       "75%     600.000000     300.000000  \n",
       "max    1400.000000     900.000000  "
      ]
     },
     "execution_count": 8,
     "metadata": {},
     "output_type": "execute_result"
    }
   ],
   "source": [
    "df.describe()"
   ]
  },
  {
   "cell_type": "code",
   "execution_count": 37,
   "id": "95e9e77f",
   "metadata": {
    "scrolled": false
   },
   "outputs": [
    {
     "data": {
      "text/html": [
       "<div>\n",
       "<style scoped>\n",
       "    .dataframe tbody tr th:only-of-type {\n",
       "        vertical-align: middle;\n",
       "    }\n",
       "\n",
       "    .dataframe tbody tr th {\n",
       "        vertical-align: top;\n",
       "    }\n",
       "\n",
       "    .dataframe thead th {\n",
       "        text-align: right;\n",
       "    }\n",
       "</style>\n",
       "<table border=\"1\" class=\"dataframe\">\n",
       "  <thead>\n",
       "    <tr style=\"text-align: right;\">\n",
       "      <th>Major</th>\n",
       "      <th>Accounting</th>\n",
       "      <th>CIS</th>\n",
       "      <th>Economics/Finance</th>\n",
       "      <th>International Business</th>\n",
       "      <th>Management</th>\n",
       "      <th>Other</th>\n",
       "      <th>Retailing/Marketing</th>\n",
       "      <th>Undecided</th>\n",
       "      <th>All</th>\n",
       "    </tr>\n",
       "    <tr>\n",
       "      <th>Gender</th>\n",
       "      <th></th>\n",
       "      <th></th>\n",
       "      <th></th>\n",
       "      <th></th>\n",
       "      <th></th>\n",
       "      <th></th>\n",
       "      <th></th>\n",
       "      <th></th>\n",
       "      <th></th>\n",
       "    </tr>\n",
       "  </thead>\n",
       "  <tbody>\n",
       "    <tr>\n",
       "      <th>Female</th>\n",
       "      <td>3</td>\n",
       "      <td>3</td>\n",
       "      <td>7</td>\n",
       "      <td>4</td>\n",
       "      <td>4</td>\n",
       "      <td>3</td>\n",
       "      <td>9</td>\n",
       "      <td>0</td>\n",
       "      <td>33</td>\n",
       "    </tr>\n",
       "    <tr>\n",
       "      <th>Male</th>\n",
       "      <td>4</td>\n",
       "      <td>1</td>\n",
       "      <td>4</td>\n",
       "      <td>2</td>\n",
       "      <td>6</td>\n",
       "      <td>4</td>\n",
       "      <td>5</td>\n",
       "      <td>3</td>\n",
       "      <td>29</td>\n",
       "    </tr>\n",
       "    <tr>\n",
       "      <th>All</th>\n",
       "      <td>7</td>\n",
       "      <td>4</td>\n",
       "      <td>11</td>\n",
       "      <td>6</td>\n",
       "      <td>10</td>\n",
       "      <td>7</td>\n",
       "      <td>14</td>\n",
       "      <td>3</td>\n",
       "      <td>62</td>\n",
       "    </tr>\n",
       "  </tbody>\n",
       "</table>\n",
       "</div>"
      ],
      "text/plain": [
       "Major   Accounting  CIS  Economics/Finance  International Business  \\\n",
       "Gender                                                               \n",
       "Female           3    3                  7                       4   \n",
       "Male             4    1                  4                       2   \n",
       "All              7    4                 11                       6   \n",
       "\n",
       "Major   Management  Other  Retailing/Marketing  Undecided  All  \n",
       "Gender                                                          \n",
       "Female           4      3                    9          0   33  \n",
       "Male             6      4                    5          3   29  \n",
       "All             10      7                   14          3   62  "
      ]
     },
     "execution_count": 37,
     "metadata": {},
     "output_type": "execute_result"
    }
   ],
   "source": [
    "pd.crosstab(df['Gender'],df['Major'], margins = True)"
   ]
  },
  {
   "cell_type": "code",
   "execution_count": 10,
   "id": "878dbfff",
   "metadata": {},
   "outputs": [
    {
     "data": {
      "text/html": [
       "<div>\n",
       "<style scoped>\n",
       "    .dataframe tbody tr th:only-of-type {\n",
       "        vertical-align: middle;\n",
       "    }\n",
       "\n",
       "    .dataframe tbody tr th {\n",
       "        vertical-align: top;\n",
       "    }\n",
       "\n",
       "    .dataframe thead th {\n",
       "        text-align: right;\n",
       "    }\n",
       "</style>\n",
       "<table border=\"1\" class=\"dataframe\">\n",
       "  <thead>\n",
       "    <tr style=\"text-align: right;\">\n",
       "      <th>Grad Intention</th>\n",
       "      <th>No</th>\n",
       "      <th>Undecided</th>\n",
       "      <th>Yes</th>\n",
       "    </tr>\n",
       "    <tr>\n",
       "      <th>Gender</th>\n",
       "      <th></th>\n",
       "      <th></th>\n",
       "      <th></th>\n",
       "    </tr>\n",
       "  </thead>\n",
       "  <tbody>\n",
       "    <tr>\n",
       "      <th>Female</th>\n",
       "      <td>9</td>\n",
       "      <td>13</td>\n",
       "      <td>11</td>\n",
       "    </tr>\n",
       "    <tr>\n",
       "      <th>Male</th>\n",
       "      <td>3</td>\n",
       "      <td>9</td>\n",
       "      <td>17</td>\n",
       "    </tr>\n",
       "  </tbody>\n",
       "</table>\n",
       "</div>"
      ],
      "text/plain": [
       "Grad Intention  No  Undecided  Yes\n",
       "Gender                            \n",
       "Female           9         13   11\n",
       "Male             3          9   17"
      ]
     },
     "execution_count": 10,
     "metadata": {},
     "output_type": "execute_result"
    }
   ],
   "source": [
    "pd.crosstab(df['Gender'],df['Grad Intention'], margins = False)"
   ]
  },
  {
   "cell_type": "code",
   "execution_count": 11,
   "id": "e33592ac",
   "metadata": {},
   "outputs": [
    {
     "data": {
      "text/html": [
       "<div>\n",
       "<style scoped>\n",
       "    .dataframe tbody tr th:only-of-type {\n",
       "        vertical-align: middle;\n",
       "    }\n",
       "\n",
       "    .dataframe tbody tr th {\n",
       "        vertical-align: top;\n",
       "    }\n",
       "\n",
       "    .dataframe thead th {\n",
       "        text-align: right;\n",
       "    }\n",
       "</style>\n",
       "<table border=\"1\" class=\"dataframe\">\n",
       "  <thead>\n",
       "    <tr style=\"text-align: right;\">\n",
       "      <th>Employment</th>\n",
       "      <th>Full-Time</th>\n",
       "      <th>Part-Time</th>\n",
       "      <th>Unemployed</th>\n",
       "    </tr>\n",
       "    <tr>\n",
       "      <th>Gender</th>\n",
       "      <th></th>\n",
       "      <th></th>\n",
       "      <th></th>\n",
       "    </tr>\n",
       "  </thead>\n",
       "  <tbody>\n",
       "    <tr>\n",
       "      <th>Female</th>\n",
       "      <td>3</td>\n",
       "      <td>24</td>\n",
       "      <td>6</td>\n",
       "    </tr>\n",
       "    <tr>\n",
       "      <th>Male</th>\n",
       "      <td>7</td>\n",
       "      <td>19</td>\n",
       "      <td>3</td>\n",
       "    </tr>\n",
       "  </tbody>\n",
       "</table>\n",
       "</div>"
      ],
      "text/plain": [
       "Employment  Full-Time  Part-Time  Unemployed\n",
       "Gender                                      \n",
       "Female              3         24           6\n",
       "Male                7         19           3"
      ]
     },
     "execution_count": 11,
     "metadata": {},
     "output_type": "execute_result"
    }
   ],
   "source": [
    "pd.crosstab(df['Gender'],df['Employment'], margins = False)"
   ]
  },
  {
   "cell_type": "code",
   "execution_count": 12,
   "id": "d0d711fe",
   "metadata": {},
   "outputs": [
    {
     "data": {
      "text/html": [
       "<div>\n",
       "<style scoped>\n",
       "    .dataframe tbody tr th:only-of-type {\n",
       "        vertical-align: middle;\n",
       "    }\n",
       "\n",
       "    .dataframe tbody tr th {\n",
       "        vertical-align: top;\n",
       "    }\n",
       "\n",
       "    .dataframe thead th {\n",
       "        text-align: right;\n",
       "    }\n",
       "</style>\n",
       "<table border=\"1\" class=\"dataframe\">\n",
       "  <thead>\n",
       "    <tr style=\"text-align: right;\">\n",
       "      <th>Computer</th>\n",
       "      <th>Desktop</th>\n",
       "      <th>Laptop</th>\n",
       "      <th>Tablet</th>\n",
       "    </tr>\n",
       "    <tr>\n",
       "      <th>Gender</th>\n",
       "      <th></th>\n",
       "      <th></th>\n",
       "      <th></th>\n",
       "    </tr>\n",
       "  </thead>\n",
       "  <tbody>\n",
       "    <tr>\n",
       "      <th>Female</th>\n",
       "      <td>2</td>\n",
       "      <td>29</td>\n",
       "      <td>2</td>\n",
       "    </tr>\n",
       "    <tr>\n",
       "      <th>Male</th>\n",
       "      <td>3</td>\n",
       "      <td>26</td>\n",
       "      <td>0</td>\n",
       "    </tr>\n",
       "  </tbody>\n",
       "</table>\n",
       "</div>"
      ],
      "text/plain": [
       "Computer  Desktop  Laptop  Tablet\n",
       "Gender                           \n",
       "Female          2      29       2\n",
       "Male            3      26       0"
      ]
     },
     "execution_count": 12,
     "metadata": {},
     "output_type": "execute_result"
    }
   ],
   "source": [
    "pd.crosstab(df['Gender'],df['Computer'], margins = False)"
   ]
  },
  {
   "cell_type": "code",
   "execution_count": 13,
   "id": "3c2a8f29",
   "metadata": {},
   "outputs": [
    {
     "data": {
      "text/plain": [
       "0.47"
      ]
     },
     "execution_count": 13,
     "metadata": {},
     "output_type": "execute_result"
    }
   ],
   "source": [
    "(df.Gender.value_counts().Male/df.Gender.value_counts().sum()).round(decimals = 2)"
   ]
  },
  {
   "cell_type": "code",
   "execution_count": 14,
   "id": "4402445d",
   "metadata": {},
   "outputs": [
    {
     "data": {
      "text/plain": [
       "0.53"
      ]
     },
     "execution_count": 14,
     "metadata": {},
     "output_type": "execute_result"
    }
   ],
   "source": [
    "(df.Gender.value_counts().Female/df.Gender.value_counts().sum()).round(decimals = 2)"
   ]
  },
  {
   "cell_type": "code",
   "execution_count": 15,
   "id": "f344a56c",
   "metadata": {},
   "outputs": [
    {
     "data": {
      "text/plain": [
       "array(['Other', 'Management', 'CIS', 'Economics/Finance', 'Undecided',\n",
       "       'International Business', 'Retailing/Marketing', 'Accounting'],\n",
       "      dtype=object)"
      ]
     },
     "execution_count": 15,
     "metadata": {},
     "output_type": "execute_result"
    }
   ],
   "source": [
    "list_major = df['Major'].unique()\n",
    "list_major"
   ]
  },
  {
   "cell_type": "code",
   "execution_count": 16,
   "id": "29233da4",
   "metadata": {},
   "outputs": [],
   "source": [
    "male_df = df[df['Gender'] == 'Male']"
   ]
  },
  {
   "cell_type": "code",
   "execution_count": 17,
   "id": "b874e142",
   "metadata": {},
   "outputs": [
    {
     "data": {
      "text/plain": [
       "Management                0.21\n",
       "Retailing/Marketing       0.17\n",
       "Other                     0.14\n",
       "Accounting                0.14\n",
       "Economics/Finance         0.14\n",
       "Undecided                 0.10\n",
       "International Business    0.07\n",
       "CIS                       0.03\n",
       "Name: Major, dtype: float64"
      ]
     },
     "execution_count": 17,
     "metadata": {},
     "output_type": "execute_result"
    }
   ],
   "source": [
    "round(male_df.Major.value_counts()/len(male_df) , 2)"
   ]
  },
  {
   "cell_type": "code",
   "execution_count": 18,
   "id": "b8b1a0fb",
   "metadata": {},
   "outputs": [],
   "source": [
    "female_df = df[df['Gender'] == 'Female']"
   ]
  },
  {
   "cell_type": "code",
   "execution_count": 39,
   "id": "4a3f1685",
   "metadata": {},
   "outputs": [
    {
     "data": {
      "text/plain": [
       "Retailing/Marketing       0.27\n",
       "Economics/Finance         0.21\n",
       "Management                0.12\n",
       "International Business    0.12\n",
       "CIS                       0.09\n",
       "Other                     0.09\n",
       "Accounting                0.09\n",
       "Name: Major, dtype: float64"
      ]
     },
     "execution_count": 39,
     "metadata": {},
     "output_type": "execute_result"
    }
   ],
   "source": [
    "round(female_df.Major.value_counts()/len(female_df) , 2)"
   ]
  },
  {
   "cell_type": "code",
   "execution_count": 46,
   "id": "32ca8a9d",
   "metadata": {},
   "outputs": [
    {
     "data": {
      "text/plain": [
       "0.46774193548387094"
      ]
     },
     "execution_count": 46,
     "metadata": {},
     "output_type": "execute_result"
    }
   ],
   "source": [
    "prob_of_male = len(df[df['Gender'] == 'Male'])/len(df)\n",
    "prob_of_male"
   ]
  },
  {
   "cell_type": "code",
   "execution_count": 45,
   "id": "892a1f6f",
   "metadata": {},
   "outputs": [
    {
     "data": {
      "text/plain": [
       "0.5862068965517241"
      ]
     },
     "execution_count": 45,
     "metadata": {},
     "output_type": "execute_result"
    }
   ],
   "source": [
    "prob_of_grad_after_male = len(df[(df['Gender'] == 'Male') & (df['Grad Intention'] == 'Yes')]) / len(df[df['Gender'] == 'Male'])\n",
    "prob_of_grad_after_male"
   ]
  },
  {
   "cell_type": "code",
   "execution_count": 48,
   "id": "81d1e9a4",
   "metadata": {},
   "outputs": [
    {
     "data": {
      "text/plain": [
       "0.27"
      ]
     },
     "execution_count": 48,
     "metadata": {},
     "output_type": "execute_result"
    }
   ],
   "source": [
    "round(prob_of_male * prob_of_grad_after_male , 2)"
   ]
  },
  {
   "cell_type": "code",
   "execution_count": 23,
   "id": "567f765d",
   "metadata": {},
   "outputs": [
    {
     "data": {
      "text/plain": [
       "0.53"
      ]
     },
     "execution_count": 23,
     "metadata": {},
     "output_type": "execute_result"
    }
   ],
   "source": [
    "prob_of_female = round(len(df[df['Gender'] == 'Female'])/len(df),2)\n",
    "prob_of_female"
   ]
  },
  {
   "cell_type": "code",
   "execution_count": 24,
   "id": "cfcbee25",
   "metadata": {},
   "outputs": [],
   "source": [
    "prob_of_nolaptop = round((len(df[df['Gender'] == 'Female']) - len(df[(df['Gender'] == 'Female') & (df['Computer'] == 'Laptop')])) / (len(df[df['Gender'] == 'Female'])) , 2 )"
   ]
  },
  {
   "cell_type": "code",
   "execution_count": 25,
   "id": "bc889176",
   "metadata": {},
   "outputs": [
    {
     "data": {
      "text/plain": [
       "0.06"
      ]
     },
     "execution_count": 25,
     "metadata": {},
     "output_type": "execute_result"
    }
   ],
   "source": [
    "prob_no_laptop_after_female = round(prob_of_nolaptop*prob_of_female , 2)\n",
    "prob_no_laptop_after_female"
   ]
  },
  {
   "cell_type": "code",
   "execution_count": 26,
   "id": "526f1c4d",
   "metadata": {},
   "outputs": [
    {
     "data": {
      "text/html": [
       "<div>\n",
       "<style scoped>\n",
       "    .dataframe tbody tr th:only-of-type {\n",
       "        vertical-align: middle;\n",
       "    }\n",
       "\n",
       "    .dataframe tbody tr th {\n",
       "        vertical-align: top;\n",
       "    }\n",
       "\n",
       "    .dataframe thead th {\n",
       "        text-align: right;\n",
       "    }\n",
       "</style>\n",
       "<table border=\"1\" class=\"dataframe\">\n",
       "  <thead>\n",
       "    <tr style=\"text-align: right;\">\n",
       "      <th>Employment</th>\n",
       "      <th>Full-Time</th>\n",
       "      <th>Part-Time</th>\n",
       "      <th>Unemployed</th>\n",
       "      <th>All</th>\n",
       "    </tr>\n",
       "    <tr>\n",
       "      <th>Gender</th>\n",
       "      <th></th>\n",
       "      <th></th>\n",
       "      <th></th>\n",
       "      <th></th>\n",
       "    </tr>\n",
       "  </thead>\n",
       "  <tbody>\n",
       "    <tr>\n",
       "      <th>Female</th>\n",
       "      <td>3</td>\n",
       "      <td>24</td>\n",
       "      <td>6</td>\n",
       "      <td>33</td>\n",
       "    </tr>\n",
       "    <tr>\n",
       "      <th>Male</th>\n",
       "      <td>7</td>\n",
       "      <td>19</td>\n",
       "      <td>3</td>\n",
       "      <td>29</td>\n",
       "    </tr>\n",
       "    <tr>\n",
       "      <th>All</th>\n",
       "      <td>10</td>\n",
       "      <td>43</td>\n",
       "      <td>9</td>\n",
       "      <td>62</td>\n",
       "    </tr>\n",
       "  </tbody>\n",
       "</table>\n",
       "</div>"
      ],
      "text/plain": [
       "Employment  Full-Time  Part-Time  Unemployed  All\n",
       "Gender                                           \n",
       "Female              3         24           6   33\n",
       "Male                7         19           3   29\n",
       "All                10         43           9   62"
      ]
     },
     "execution_count": 26,
     "metadata": {},
     "output_type": "execute_result"
    }
   ],
   "source": [
    "pd.crosstab(df['Gender'],df['Employment'], margins = True)"
   ]
  },
  {
   "cell_type": "code",
   "execution_count": 27,
   "id": "79fa84e2",
   "metadata": {},
   "outputs": [
    {
     "data": {
      "text/plain": [
       "0.52"
      ]
     },
     "execution_count": 27,
     "metadata": {},
     "output_type": "execute_result"
    }
   ],
   "source": [
    "ans_251 = round((29/62) + (10/62) - (7/62) , 2)\n",
    "ans_251"
   ]
  },
  {
   "cell_type": "code",
   "execution_count": 28,
   "id": "d2f431dc",
   "metadata": {},
   "outputs": [
    {
     "data": {
      "text/html": [
       "<div>\n",
       "<style scoped>\n",
       "    .dataframe tbody tr th:only-of-type {\n",
       "        vertical-align: middle;\n",
       "    }\n",
       "\n",
       "    .dataframe tbody tr th {\n",
       "        vertical-align: top;\n",
       "    }\n",
       "\n",
       "    .dataframe thead th {\n",
       "        text-align: right;\n",
       "    }\n",
       "</style>\n",
       "<table border=\"1\" class=\"dataframe\">\n",
       "  <thead>\n",
       "    <tr style=\"text-align: right;\">\n",
       "      <th>Major</th>\n",
       "      <th>Accounting</th>\n",
       "      <th>CIS</th>\n",
       "      <th>Economics/Finance</th>\n",
       "      <th>International Business</th>\n",
       "      <th>Management</th>\n",
       "      <th>Other</th>\n",
       "      <th>Retailing/Marketing</th>\n",
       "      <th>Undecided</th>\n",
       "      <th>All</th>\n",
       "    </tr>\n",
       "    <tr>\n",
       "      <th>Gender</th>\n",
       "      <th></th>\n",
       "      <th></th>\n",
       "      <th></th>\n",
       "      <th></th>\n",
       "      <th></th>\n",
       "      <th></th>\n",
       "      <th></th>\n",
       "      <th></th>\n",
       "      <th></th>\n",
       "    </tr>\n",
       "  </thead>\n",
       "  <tbody>\n",
       "    <tr>\n",
       "      <th>Female</th>\n",
       "      <td>3</td>\n",
       "      <td>3</td>\n",
       "      <td>7</td>\n",
       "      <td>4</td>\n",
       "      <td>4</td>\n",
       "      <td>3</td>\n",
       "      <td>9</td>\n",
       "      <td>0</td>\n",
       "      <td>33</td>\n",
       "    </tr>\n",
       "    <tr>\n",
       "      <th>Male</th>\n",
       "      <td>4</td>\n",
       "      <td>1</td>\n",
       "      <td>4</td>\n",
       "      <td>2</td>\n",
       "      <td>6</td>\n",
       "      <td>4</td>\n",
       "      <td>5</td>\n",
       "      <td>3</td>\n",
       "      <td>29</td>\n",
       "    </tr>\n",
       "    <tr>\n",
       "      <th>All</th>\n",
       "      <td>7</td>\n",
       "      <td>4</td>\n",
       "      <td>11</td>\n",
       "      <td>6</td>\n",
       "      <td>10</td>\n",
       "      <td>7</td>\n",
       "      <td>14</td>\n",
       "      <td>3</td>\n",
       "      <td>62</td>\n",
       "    </tr>\n",
       "  </tbody>\n",
       "</table>\n",
       "</div>"
      ],
      "text/plain": [
       "Major   Accounting  CIS  Economics/Finance  International Business  \\\n",
       "Gender                                                               \n",
       "Female           3    3                  7                       4   \n",
       "Male             4    1                  4                       2   \n",
       "All              7    4                 11                       6   \n",
       "\n",
       "Major   Management  Other  Retailing/Marketing  Undecided  All  \n",
       "Gender                                                          \n",
       "Female           4      3                    9          0   33  \n",
       "Male             6      4                    5          3   29  \n",
       "All             10      7                   14          3   62  "
      ]
     },
     "execution_count": 28,
     "metadata": {},
     "output_type": "execute_result"
    }
   ],
   "source": [
    "pd.crosstab(df['Gender'],df['Major'], margins = True)"
   ]
  },
  {
   "cell_type": "code",
   "execution_count": 49,
   "id": "195e44ad",
   "metadata": {},
   "outputs": [
    {
     "data": {
      "text/plain": [
       "0.24"
      ]
     },
     "execution_count": 49,
     "metadata": {},
     "output_type": "execute_result"
    }
   ],
   "source": [
    "ans_252 = round((8/33) ,2)\n",
    "ans_252"
   ]
  },
  {
   "cell_type": "code",
   "execution_count": 50,
   "id": "ce6df82f",
   "metadata": {},
   "outputs": [
    {
     "data": {
      "text/html": [
       "<div>\n",
       "<style scoped>\n",
       "    .dataframe tbody tr th:only-of-type {\n",
       "        vertical-align: middle;\n",
       "    }\n",
       "\n",
       "    .dataframe tbody tr th {\n",
       "        vertical-align: top;\n",
       "    }\n",
       "\n",
       "    .dataframe thead th {\n",
       "        text-align: right;\n",
       "    }\n",
       "</style>\n",
       "<table border=\"1\" class=\"dataframe\">\n",
       "  <thead>\n",
       "    <tr style=\"text-align: right;\">\n",
       "      <th>Grad Intention</th>\n",
       "      <th>No</th>\n",
       "      <th>Yes</th>\n",
       "    </tr>\n",
       "    <tr>\n",
       "      <th>Gender</th>\n",
       "      <th></th>\n",
       "      <th></th>\n",
       "    </tr>\n",
       "  </thead>\n",
       "  <tbody>\n",
       "    <tr>\n",
       "      <th>Female</th>\n",
       "      <td>9</td>\n",
       "      <td>11</td>\n",
       "    </tr>\n",
       "    <tr>\n",
       "      <th>Male</th>\n",
       "      <td>3</td>\n",
       "      <td>17</td>\n",
       "    </tr>\n",
       "  </tbody>\n",
       "</table>\n",
       "</div>"
      ],
      "text/plain": [
       "Grad Intention  No  Yes\n",
       "Gender                 \n",
       "Female           9   11\n",
       "Male             3   17"
      ]
     },
     "execution_count": 50,
     "metadata": {},
     "output_type": "execute_result"
    }
   ],
   "source": [
    "pd.crosstab(df['Gender'],df['Grad Intention'].where(df['Grad Intention'] != \"Undecided\"), margins = False)"
   ]
  },
  {
   "cell_type": "code",
   "execution_count": 31,
   "id": "23106b6e",
   "metadata": {},
   "outputs": [
    {
     "data": {
      "text/plain": [
       "0.27"
      ]
     },
     "execution_count": 31,
     "metadata": {},
     "output_type": "execute_result"
    }
   ],
   "source": [
    "round(len(df[df['GPA'] < 3]) / len(df) , 2)"
   ]
  },
  {
   "cell_type": "code",
   "execution_count": 32,
   "id": "552467a4",
   "metadata": {},
   "outputs": [
    {
     "data": {
      "text/html": [
       "<div>\n",
       "<style scoped>\n",
       "    .dataframe tbody tr th:only-of-type {\n",
       "        vertical-align: middle;\n",
       "    }\n",
       "\n",
       "    .dataframe tbody tr th {\n",
       "        vertical-align: top;\n",
       "    }\n",
       "\n",
       "    .dataframe thead th {\n",
       "        text-align: right;\n",
       "    }\n",
       "</style>\n",
       "<table border=\"1\" class=\"dataframe\">\n",
       "  <thead>\n",
       "    <tr style=\"text-align: right;\">\n",
       "      <th>Salary</th>\n",
       "      <th>25.0</th>\n",
       "      <th>30.0</th>\n",
       "      <th>35.0</th>\n",
       "      <th>37.0</th>\n",
       "      <th>37.5</th>\n",
       "      <th>40.0</th>\n",
       "      <th>42.0</th>\n",
       "      <th>45.0</th>\n",
       "      <th>47.0</th>\n",
       "      <th>47.5</th>\n",
       "      <th>50.0</th>\n",
       "      <th>52.0</th>\n",
       "      <th>54.0</th>\n",
       "      <th>55.0</th>\n",
       "      <th>60.0</th>\n",
       "      <th>65.0</th>\n",
       "      <th>70.0</th>\n",
       "      <th>78.0</th>\n",
       "      <th>80.0</th>\n",
       "      <th>All</th>\n",
       "    </tr>\n",
       "    <tr>\n",
       "      <th>Gender</th>\n",
       "      <th></th>\n",
       "      <th></th>\n",
       "      <th></th>\n",
       "      <th></th>\n",
       "      <th></th>\n",
       "      <th></th>\n",
       "      <th></th>\n",
       "      <th></th>\n",
       "      <th></th>\n",
       "      <th></th>\n",
       "      <th></th>\n",
       "      <th></th>\n",
       "      <th></th>\n",
       "      <th></th>\n",
       "      <th></th>\n",
       "      <th></th>\n",
       "      <th></th>\n",
       "      <th></th>\n",
       "      <th></th>\n",
       "      <th></th>\n",
       "    </tr>\n",
       "  </thead>\n",
       "  <tbody>\n",
       "    <tr>\n",
       "      <th>Female</th>\n",
       "      <td>0</td>\n",
       "      <td>5</td>\n",
       "      <td>1</td>\n",
       "      <td>0</td>\n",
       "      <td>1</td>\n",
       "      <td>5</td>\n",
       "      <td>1</td>\n",
       "      <td>1</td>\n",
       "      <td>0</td>\n",
       "      <td>1</td>\n",
       "      <td>5</td>\n",
       "      <td>0</td>\n",
       "      <td>0</td>\n",
       "      <td>5</td>\n",
       "      <td>5</td>\n",
       "      <td>0</td>\n",
       "      <td>1</td>\n",
       "      <td>1</td>\n",
       "      <td>1</td>\n",
       "      <td>33</td>\n",
       "    </tr>\n",
       "    <tr>\n",
       "      <th>Male</th>\n",
       "      <td>1</td>\n",
       "      <td>0</td>\n",
       "      <td>1</td>\n",
       "      <td>1</td>\n",
       "      <td>0</td>\n",
       "      <td>7</td>\n",
       "      <td>0</td>\n",
       "      <td>4</td>\n",
       "      <td>1</td>\n",
       "      <td>0</td>\n",
       "      <td>4</td>\n",
       "      <td>1</td>\n",
       "      <td>1</td>\n",
       "      <td>3</td>\n",
       "      <td>3</td>\n",
       "      <td>1</td>\n",
       "      <td>0</td>\n",
       "      <td>0</td>\n",
       "      <td>1</td>\n",
       "      <td>29</td>\n",
       "    </tr>\n",
       "    <tr>\n",
       "      <th>All</th>\n",
       "      <td>1</td>\n",
       "      <td>5</td>\n",
       "      <td>2</td>\n",
       "      <td>1</td>\n",
       "      <td>1</td>\n",
       "      <td>12</td>\n",
       "      <td>1</td>\n",
       "      <td>5</td>\n",
       "      <td>1</td>\n",
       "      <td>1</td>\n",
       "      <td>9</td>\n",
       "      <td>1</td>\n",
       "      <td>1</td>\n",
       "      <td>8</td>\n",
       "      <td>8</td>\n",
       "      <td>1</td>\n",
       "      <td>1</td>\n",
       "      <td>1</td>\n",
       "      <td>2</td>\n",
       "      <td>62</td>\n",
       "    </tr>\n",
       "  </tbody>\n",
       "</table>\n",
       "</div>"
      ],
      "text/plain": [
       "Salary  25.0  30.0  35.0  37.0  37.5  40.0  42.0  45.0  47.0  47.5  50.0  \\\n",
       "Gender                                                                     \n",
       "Female     0     5     1     0     1     5     1     1     0     1     5   \n",
       "Male       1     0     1     1     0     7     0     4     1     0     4   \n",
       "All        1     5     2     1     1    12     1     5     1     1     9   \n",
       "\n",
       "Salary  52.0  54.0  55.0  60.0  65.0  70.0  78.0  80.0  All  \n",
       "Gender                                                       \n",
       "Female     0     0     5     5     0     1     1     1   33  \n",
       "Male       1     1     3     3     1     0     0     1   29  \n",
       "All        1     1     8     8     1     1     1     2   62  "
      ]
     },
     "execution_count": 32,
     "metadata": {},
     "output_type": "execute_result"
    }
   ],
   "source": [
    "pd.crosstab(df['Gender'],df['Salary'], margins = True) "
   ]
  },
  {
   "cell_type": "code",
   "execution_count": 33,
   "id": "727695fb",
   "metadata": {},
   "outputs": [
    {
     "data": {
      "text/html": [
       "<div>\n",
       "<style scoped>\n",
       "    .dataframe tbody tr th:only-of-type {\n",
       "        vertical-align: middle;\n",
       "    }\n",
       "\n",
       "    .dataframe tbody tr th {\n",
       "        vertical-align: top;\n",
       "    }\n",
       "\n",
       "    .dataframe thead th {\n",
       "        text-align: right;\n",
       "    }\n",
       "</style>\n",
       "<table border=\"1\" class=\"dataframe\">\n",
       "  <thead>\n",
       "    <tr style=\"text-align: right;\">\n",
       "      <th>Salary</th>\n",
       "      <th>50.0</th>\n",
       "      <th>52.0</th>\n",
       "      <th>54.0</th>\n",
       "      <th>55.0</th>\n",
       "      <th>60.0</th>\n",
       "      <th>65.0</th>\n",
       "      <th>70.0</th>\n",
       "      <th>78.0</th>\n",
       "      <th>80.0</th>\n",
       "      <th>All</th>\n",
       "    </tr>\n",
       "    <tr>\n",
       "      <th>Gender</th>\n",
       "      <th></th>\n",
       "      <th></th>\n",
       "      <th></th>\n",
       "      <th></th>\n",
       "      <th></th>\n",
       "      <th></th>\n",
       "      <th></th>\n",
       "      <th></th>\n",
       "      <th></th>\n",
       "      <th></th>\n",
       "    </tr>\n",
       "  </thead>\n",
       "  <tbody>\n",
       "    <tr>\n",
       "      <th>Female</th>\n",
       "      <td>5</td>\n",
       "      <td>0</td>\n",
       "      <td>0</td>\n",
       "      <td>5</td>\n",
       "      <td>5</td>\n",
       "      <td>0</td>\n",
       "      <td>1</td>\n",
       "      <td>1</td>\n",
       "      <td>1</td>\n",
       "      <td>18</td>\n",
       "    </tr>\n",
       "    <tr>\n",
       "      <th>Male</th>\n",
       "      <td>4</td>\n",
       "      <td>1</td>\n",
       "      <td>1</td>\n",
       "      <td>3</td>\n",
       "      <td>3</td>\n",
       "      <td>1</td>\n",
       "      <td>0</td>\n",
       "      <td>0</td>\n",
       "      <td>1</td>\n",
       "      <td>14</td>\n",
       "    </tr>\n",
       "    <tr>\n",
       "      <th>All</th>\n",
       "      <td>9</td>\n",
       "      <td>1</td>\n",
       "      <td>1</td>\n",
       "      <td>8</td>\n",
       "      <td>8</td>\n",
       "      <td>1</td>\n",
       "      <td>1</td>\n",
       "      <td>1</td>\n",
       "      <td>2</td>\n",
       "      <td>32</td>\n",
       "    </tr>\n",
       "  </tbody>\n",
       "</table>\n",
       "</div>"
      ],
      "text/plain": [
       "Salary  50.0  52.0  54.0  55.0  60.0  65.0  70.0  78.0  80.0  All\n",
       "Gender                                                           \n",
       "Female     5     0     0     5     5     0     1     1     1   18\n",
       "Male       4     1     1     3     3     1     0     0     1   14\n",
       "All        9     1     1     8     8     1     1     1     2   32"
      ]
     },
     "execution_count": 33,
     "metadata": {},
     "output_type": "execute_result"
    }
   ],
   "source": [
    "pd.crosstab(df['Gender'],df['Salary'].where(df['Salary'] >= 50), margins = True) "
   ]
  },
  {
   "cell_type": "code",
   "execution_count": 51,
   "id": "106db04f",
   "metadata": {},
   "outputs": [
    {
     "name": "stdout",
     "output_type": "stream",
     "text": [
      "0.48\n",
      "0.55\n"
     ]
    }
   ],
   "source": [
    "male_261 = round((14/29) , 2)\n",
    "female_262 = round((18/33) , 2)\n",
    "print(male_261)\n",
    "print(female_262)"
   ]
  },
  {
   "cell_type": "code",
   "execution_count": 35,
   "id": "517bfd34",
   "metadata": {},
   "outputs": [
    {
     "data": {
      "text/html": [
       "<div>\n",
       "<style scoped>\n",
       "    .dataframe tbody tr th:only-of-type {\n",
       "        vertical-align: middle;\n",
       "    }\n",
       "\n",
       "    .dataframe tbody tr th {\n",
       "        vertical-align: top;\n",
       "    }\n",
       "\n",
       "    .dataframe thead th {\n",
       "        text-align: right;\n",
       "    }\n",
       "</style>\n",
       "<table border=\"1\" class=\"dataframe\">\n",
       "  <thead>\n",
       "    <tr style=\"text-align: right;\">\n",
       "      <th></th>\n",
       "      <th>count</th>\n",
       "      <th>mean</th>\n",
       "      <th>std</th>\n",
       "      <th>min</th>\n",
       "      <th>25%</th>\n",
       "      <th>50%</th>\n",
       "      <th>75%</th>\n",
       "      <th>max</th>\n",
       "    </tr>\n",
       "  </thead>\n",
       "  <tbody>\n",
       "    <tr>\n",
       "      <th>Salary</th>\n",
       "      <td>62.0</td>\n",
       "      <td>48.548387</td>\n",
       "      <td>12.080912</td>\n",
       "      <td>25.0</td>\n",
       "      <td>40.0</td>\n",
       "      <td>50.00</td>\n",
       "      <td>55.0</td>\n",
       "      <td>80.0</td>\n",
       "    </tr>\n",
       "    <tr>\n",
       "      <th>GPA</th>\n",
       "      <td>62.0</td>\n",
       "      <td>3.129032</td>\n",
       "      <td>0.377388</td>\n",
       "      <td>2.3</td>\n",
       "      <td>2.9</td>\n",
       "      <td>3.15</td>\n",
       "      <td>3.4</td>\n",
       "      <td>3.9</td>\n",
       "    </tr>\n",
       "    <tr>\n",
       "      <th>Spending</th>\n",
       "      <td>62.0</td>\n",
       "      <td>482.016129</td>\n",
       "      <td>221.953805</td>\n",
       "      <td>100.0</td>\n",
       "      <td>312.5</td>\n",
       "      <td>500.00</td>\n",
       "      <td>600.0</td>\n",
       "      <td>1400.0</td>\n",
       "    </tr>\n",
       "    <tr>\n",
       "      <th>Text Messages</th>\n",
       "      <td>62.0</td>\n",
       "      <td>246.209677</td>\n",
       "      <td>214.465950</td>\n",
       "      <td>0.0</td>\n",
       "      <td>100.0</td>\n",
       "      <td>200.00</td>\n",
       "      <td>300.0</td>\n",
       "      <td>900.0</td>\n",
       "    </tr>\n",
       "  </tbody>\n",
       "</table>\n",
       "</div>"
      ],
      "text/plain": [
       "               count        mean         std    min    25%     50%    75%  \\\n",
       "Salary          62.0   48.548387   12.080912   25.0   40.0   50.00   55.0   \n",
       "GPA             62.0    3.129032    0.377388    2.3    2.9    3.15    3.4   \n",
       "Spending        62.0  482.016129  221.953805  100.0  312.5  500.00  600.0   \n",
       "Text Messages   62.0  246.209677  214.465950    0.0  100.0  200.00  300.0   \n",
       "\n",
       "                  max  \n",
       "Salary           80.0  \n",
       "GPA               3.9  \n",
       "Spending       1400.0  \n",
       "Text Messages   900.0  "
      ]
     },
     "execution_count": 35,
     "metadata": {},
     "output_type": "execute_result"
    }
   ],
   "source": [
    "df[['Salary','GPA','Spending',\"Text Messages\"]].describe().T"
   ]
  },
  {
   "cell_type": "code",
   "execution_count": 36,
   "id": "6679e140",
   "metadata": {},
   "outputs": [
    {
     "data": {
      "text/plain": [
       "<function matplotlib.pyplot.show(close=None, block=None)>"
      ]
     },
     "execution_count": 36,
     "metadata": {},
     "output_type": "execute_result"
    },
    {
     "data": {
      "image/png": "[encoded data removed]",
      "text/plain": [
       "<Figure size 800x1200 with 4 Axes>"
      ]
     },
     "metadata": {
      "needs_background": "light"
     },
     "output_type": "display_data"
    }
   ],
   "source": [
    "plt.figure(figsize = (10,15) , dpi = 80)\n",
    "plt.subplot(4,1,1)\n",
    "sns.boxplot(x = df['GPA'])\n",
    "plt.subplot(4,1,2)\n",
    "sns.boxplot(x = df['Salary'])\n",
    "plt.subplot(4,1,3)\n",
    "sns.boxplot(x = df['Spending'])\n",
    "plt.subplot(4,1,4)\n",
    "sns.boxplot(x = df['Text Messages'])\n",
    "plt.show"
   ]
  },
  {
   "cell_type": "code",
   "execution_count": null,
   "id": "71f783bb",
   "metadata": {},
   "outputs": [],
   "source": []
  }
 ],
 "metadata": {
  "kernelspec": {
   "display_name": "Python 3",
   "language": "python",
   "name": "python3"
  },
  "language_info": {
   "codemirror_mode": {
    "name": "ipython",
    "version": 3
   },
   "file_extension": ".py",
   "mimetype": "text/x-python",
   "name": "python",
   "nbconvert_exporter": "python",
   "pygments_lexer": "ipython3",
   "version": "3.9.5"
  }
 },
 "nbformat": 4,
 "nbformat_minor": 5
}
