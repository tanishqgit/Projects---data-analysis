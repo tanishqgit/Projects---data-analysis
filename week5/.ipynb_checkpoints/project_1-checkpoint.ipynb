{
 "cells": [
  {
   "cell_type": "code",
   "execution_count": 67,
   "id": "a5f07077",
   "metadata": {},
   "outputs": [],
   "source": [
    "import pandas as pd\n",
    "from sklearn.cluster import KMeans \n",
    "import matplotlib.pyplot as plt\n",
    "import seaborn as sns"
   ]
  },
  {
   "cell_type": "code",
   "execution_count": 2,
   "id": "c6896be3",
   "metadata": {},
   "outputs": [],
   "source": [
    "df = pd.read_csv(\"bank_marketing_part1_Data.csv\")"
   ]
  },
  {
   "cell_type": "code",
   "execution_count": 3,
   "id": "3d8b9474",
   "metadata": {},
   "outputs": [
    {
     "data": {
      "text/html": [
       "<div>\n",
       "<style scoped>\n",
       "    .dataframe tbody tr th:only-of-type {\n",
       "        vertical-align: middle;\n",
       "    }\n",
       "\n",
       "    .dataframe tbody tr th {\n",
       "        vertical-align: top;\n",
       "    }\n",
       "\n",
       "    .dataframe thead th {\n",
       "        text-align: right;\n",
       "    }\n",
       "</style>\n",
       "<table border=\"1\" class=\"dataframe\">\n",
       "  <thead>\n",
       "    <tr style=\"text-align: right;\">\n",
       "      <th></th>\n",
       "      <th>spending</th>\n",
       "      <th>advance_payments</th>\n",
       "      <th>probability_of_full_payment</th>\n",
       "      <th>current_balance</th>\n",
       "      <th>credit_limit</th>\n",
       "      <th>min_payment_amt</th>\n",
       "      <th>max_spent_in_single_shopping</th>\n",
       "    </tr>\n",
       "  </thead>\n",
       "  <tbody>\n",
       "    <tr>\n",
       "      <th>0</th>\n",
       "      <td>19.94</td>\n",
       "      <td>16.92</td>\n",
       "      <td>0.8752</td>\n",
       "      <td>6.675</td>\n",
       "      <td>3.763</td>\n",
       "      <td>3.252</td>\n",
       "      <td>6.550</td>\n",
       "    </tr>\n",
       "    <tr>\n",
       "      <th>1</th>\n",
       "      <td>15.99</td>\n",
       "      <td>14.89</td>\n",
       "      <td>0.9064</td>\n",
       "      <td>5.363</td>\n",
       "      <td>3.582</td>\n",
       "      <td>3.336</td>\n",
       "      <td>5.144</td>\n",
       "    </tr>\n",
       "    <tr>\n",
       "      <th>2</th>\n",
       "      <td>18.95</td>\n",
       "      <td>16.42</td>\n",
       "      <td>0.8829</td>\n",
       "      <td>6.248</td>\n",
       "      <td>3.755</td>\n",
       "      <td>3.368</td>\n",
       "      <td>6.148</td>\n",
       "    </tr>\n",
       "    <tr>\n",
       "      <th>3</th>\n",
       "      <td>10.83</td>\n",
       "      <td>12.96</td>\n",
       "      <td>0.8099</td>\n",
       "      <td>5.278</td>\n",
       "      <td>2.641</td>\n",
       "      <td>5.182</td>\n",
       "      <td>5.185</td>\n",
       "    </tr>\n",
       "    <tr>\n",
       "      <th>4</th>\n",
       "      <td>17.99</td>\n",
       "      <td>15.86</td>\n",
       "      <td>0.8992</td>\n",
       "      <td>5.890</td>\n",
       "      <td>3.694</td>\n",
       "      <td>2.068</td>\n",
       "      <td>5.837</td>\n",
       "    </tr>\n",
       "  </tbody>\n",
       "</table>\n",
       "</div>"
      ],
      "text/plain": [
       "   spending  advance_payments  probability_of_full_payment  current_balance  \\\n",
       "0     19.94             16.92                       0.8752            6.675   \n",
       "1     15.99             14.89                       0.9064            5.363   \n",
       "2     18.95             16.42                       0.8829            6.248   \n",
       "3     10.83             12.96                       0.8099            5.278   \n",
       "4     17.99             15.86                       0.8992            5.890   \n",
       "\n",
       "   credit_limit  min_payment_amt  max_spent_in_single_shopping  \n",
       "0         3.763            3.252                         6.550  \n",
       "1         3.582            3.336                         5.144  \n",
       "2         3.755            3.368                         6.148  \n",
       "3         2.641            5.182                         5.185  \n",
       "4         3.694            2.068                         5.837  "
      ]
     },
     "execution_count": 3,
     "metadata": {},
     "output_type": "execute_result"
    }
   ],
   "source": [
    "df.head()"
   ]
  },
  {
   "cell_type": "code",
   "execution_count": 4,
   "id": "6026db4f",
   "metadata": {},
   "outputs": [
    {
     "data": {
      "text/html": [
       "<div>\n",
       "<style scoped>\n",
       "    .dataframe tbody tr th:only-of-type {\n",
       "        vertical-align: middle;\n",
       "    }\n",
       "\n",
       "    .dataframe tbody tr th {\n",
       "        vertical-align: top;\n",
       "    }\n",
       "\n",
       "    .dataframe thead th {\n",
       "        text-align: right;\n",
       "    }\n",
       "</style>\n",
       "<table border=\"1\" class=\"dataframe\">\n",
       "  <thead>\n",
       "    <tr style=\"text-align: right;\">\n",
       "      <th></th>\n",
       "      <th>spending</th>\n",
       "      <th>advance_payments</th>\n",
       "      <th>probability_of_full_payment</th>\n",
       "      <th>current_balance</th>\n",
       "      <th>credit_limit</th>\n",
       "      <th>min_payment_amt</th>\n",
       "      <th>max_spent_in_single_shopping</th>\n",
       "    </tr>\n",
       "  </thead>\n",
       "  <tbody>\n",
       "    <tr>\n",
       "      <th>205</th>\n",
       "      <td>13.89</td>\n",
       "      <td>14.02</td>\n",
       "      <td>0.8880</td>\n",
       "      <td>5.439</td>\n",
       "      <td>3.199</td>\n",
       "      <td>3.986</td>\n",
       "      <td>4.738</td>\n",
       "    </tr>\n",
       "    <tr>\n",
       "      <th>206</th>\n",
       "      <td>16.77</td>\n",
       "      <td>15.62</td>\n",
       "      <td>0.8638</td>\n",
       "      <td>5.927</td>\n",
       "      <td>3.438</td>\n",
       "      <td>4.920</td>\n",
       "      <td>5.795</td>\n",
       "    </tr>\n",
       "    <tr>\n",
       "      <th>207</th>\n",
       "      <td>14.03</td>\n",
       "      <td>14.16</td>\n",
       "      <td>0.8796</td>\n",
       "      <td>5.438</td>\n",
       "      <td>3.201</td>\n",
       "      <td>1.717</td>\n",
       "      <td>5.001</td>\n",
       "    </tr>\n",
       "    <tr>\n",
       "      <th>208</th>\n",
       "      <td>16.12</td>\n",
       "      <td>15.00</td>\n",
       "      <td>0.9000</td>\n",
       "      <td>5.709</td>\n",
       "      <td>3.485</td>\n",
       "      <td>2.270</td>\n",
       "      <td>5.443</td>\n",
       "    </tr>\n",
       "    <tr>\n",
       "      <th>209</th>\n",
       "      <td>15.57</td>\n",
       "      <td>15.15</td>\n",
       "      <td>0.8527</td>\n",
       "      <td>5.920</td>\n",
       "      <td>3.231</td>\n",
       "      <td>2.640</td>\n",
       "      <td>5.879</td>\n",
       "    </tr>\n",
       "  </tbody>\n",
       "</table>\n",
       "</div>"
      ],
      "text/plain": [
       "     spending  advance_payments  probability_of_full_payment  current_balance  \\\n",
       "205     13.89             14.02                       0.8880            5.439   \n",
       "206     16.77             15.62                       0.8638            5.927   \n",
       "207     14.03             14.16                       0.8796            5.438   \n",
       "208     16.12             15.00                       0.9000            5.709   \n",
       "209     15.57             15.15                       0.8527            5.920   \n",
       "\n",
       "     credit_limit  min_payment_amt  max_spent_in_single_shopping  \n",
       "205         3.199            3.986                         4.738  \n",
       "206         3.438            4.920                         5.795  \n",
       "207         3.201            1.717                         5.001  \n",
       "208         3.485            2.270                         5.443  \n",
       "209         3.231            2.640                         5.879  "
      ]
     },
     "execution_count": 4,
     "metadata": {},
     "output_type": "execute_result"
    }
   ],
   "source": [
    "df.tail()"
   ]
  },
  {
   "cell_type": "code",
   "execution_count": 5,
   "id": "3282eef9",
   "metadata": {},
   "outputs": [
    {
     "data": {
      "text/plain": [
       "(210, 7)"
      ]
     },
     "execution_count": 5,
     "metadata": {},
     "output_type": "execute_result"
    }
   ],
   "source": [
    "df.shape"
   ]
  },
  {
   "cell_type": "code",
   "execution_count": 6,
   "id": "9515da99",
   "metadata": {},
   "outputs": [
    {
     "name": "stdout",
     "output_type": "stream",
     "text": [
      "<class 'pandas.core.frame.DataFrame'>\n",
      "RangeIndex: 210 entries, 0 to 209\n",
      "Data columns (total 7 columns):\n",
      " #   Column                        Non-Null Count  Dtype  \n",
      "---  ------                        --------------  -----  \n",
      " 0   spending                      210 non-null    float64\n",
      " 1   advance_payments              210 non-null    float64\n",
      " 2   probability_of_full_payment   210 non-null    float64\n",
      " 3   current_balance               210 non-null    float64\n",
      " 4   credit_limit                  210 non-null    float64\n",
      " 5   min_payment_amt               210 non-null    float64\n",
      " 6   max_spent_in_single_shopping  210 non-null    float64\n",
      "dtypes: float64(7)\n",
      "memory usage: 11.6 KB\n"
     ]
    }
   ],
   "source": [
    "df.info()"
   ]
  },
  {
   "cell_type": "code",
   "execution_count": 7,
   "id": "9f9a9c4a",
   "metadata": {},
   "outputs": [
    {
     "data": {
      "text/html": [
       "<div>\n",
       "<style scoped>\n",
       "    .dataframe tbody tr th:only-of-type {\n",
       "        vertical-align: middle;\n",
       "    }\n",
       "\n",
       "    .dataframe tbody tr th {\n",
       "        vertical-align: top;\n",
       "    }\n",
       "\n",
       "    .dataframe thead th {\n",
       "        text-align: right;\n",
       "    }\n",
       "</style>\n",
       "<table border=\"1\" class=\"dataframe\">\n",
       "  <thead>\n",
       "    <tr style=\"text-align: right;\">\n",
       "      <th></th>\n",
       "      <th>spending</th>\n",
       "      <th>advance_payments</th>\n",
       "      <th>probability_of_full_payment</th>\n",
       "      <th>current_balance</th>\n",
       "      <th>credit_limit</th>\n",
       "      <th>min_payment_amt</th>\n",
       "      <th>max_spent_in_single_shopping</th>\n",
       "    </tr>\n",
       "  </thead>\n",
       "  <tbody>\n",
       "    <tr>\n",
       "      <th>count</th>\n",
       "      <td>210.000000</td>\n",
       "      <td>210.000000</td>\n",
       "      <td>210.000000</td>\n",
       "      <td>210.000000</td>\n",
       "      <td>210.000000</td>\n",
       "      <td>210.000000</td>\n",
       "      <td>210.000000</td>\n",
       "    </tr>\n",
       "    <tr>\n",
       "      <th>mean</th>\n",
       "      <td>14.847524</td>\n",
       "      <td>14.559286</td>\n",
       "      <td>0.870999</td>\n",
       "      <td>5.628533</td>\n",
       "      <td>3.258605</td>\n",
       "      <td>3.700201</td>\n",
       "      <td>5.408071</td>\n",
       "    </tr>\n",
       "    <tr>\n",
       "      <th>std</th>\n",
       "      <td>2.909699</td>\n",
       "      <td>1.305959</td>\n",
       "      <td>0.023629</td>\n",
       "      <td>0.443063</td>\n",
       "      <td>0.377714</td>\n",
       "      <td>1.503557</td>\n",
       "      <td>0.491480</td>\n",
       "    </tr>\n",
       "    <tr>\n",
       "      <th>min</th>\n",
       "      <td>10.590000</td>\n",
       "      <td>12.410000</td>\n",
       "      <td>0.808100</td>\n",
       "      <td>4.899000</td>\n",
       "      <td>2.630000</td>\n",
       "      <td>0.765100</td>\n",
       "      <td>4.519000</td>\n",
       "    </tr>\n",
       "    <tr>\n",
       "      <th>25%</th>\n",
       "      <td>12.270000</td>\n",
       "      <td>13.450000</td>\n",
       "      <td>0.856900</td>\n",
       "      <td>5.262250</td>\n",
       "      <td>2.944000</td>\n",
       "      <td>2.561500</td>\n",
       "      <td>5.045000</td>\n",
       "    </tr>\n",
       "    <tr>\n",
       "      <th>50%</th>\n",
       "      <td>14.355000</td>\n",
       "      <td>14.320000</td>\n",
       "      <td>0.873450</td>\n",
       "      <td>5.523500</td>\n",
       "      <td>3.237000</td>\n",
       "      <td>3.599000</td>\n",
       "      <td>5.223000</td>\n",
       "    </tr>\n",
       "    <tr>\n",
       "      <th>75%</th>\n",
       "      <td>17.305000</td>\n",
       "      <td>15.715000</td>\n",
       "      <td>0.887775</td>\n",
       "      <td>5.979750</td>\n",
       "      <td>3.561750</td>\n",
       "      <td>4.768750</td>\n",
       "      <td>5.877000</td>\n",
       "    </tr>\n",
       "    <tr>\n",
       "      <th>max</th>\n",
       "      <td>21.180000</td>\n",
       "      <td>17.250000</td>\n",
       "      <td>0.918300</td>\n",
       "      <td>6.675000</td>\n",
       "      <td>4.033000</td>\n",
       "      <td>8.456000</td>\n",
       "      <td>6.550000</td>\n",
       "    </tr>\n",
       "  </tbody>\n",
       "</table>\n",
       "</div>"
      ],
      "text/plain": [
       "         spending  advance_payments  probability_of_full_payment  \\\n",
       "count  210.000000        210.000000                   210.000000   \n",
       "mean    14.847524         14.559286                     0.870999   \n",
       "std      2.909699          1.305959                     0.023629   \n",
       "min     10.590000         12.410000                     0.808100   \n",
       "25%     12.270000         13.450000                     0.856900   \n",
       "50%     14.355000         14.320000                     0.873450   \n",
       "75%     17.305000         15.715000                     0.887775   \n",
       "max     21.180000         17.250000                     0.918300   \n",
       "\n",
       "       current_balance  credit_limit  min_payment_amt  \\\n",
       "count       210.000000    210.000000       210.000000   \n",
       "mean          5.628533      3.258605         3.700201   \n",
       "std           0.443063      0.377714         1.503557   \n",
       "min           4.899000      2.630000         0.765100   \n",
       "25%           5.262250      2.944000         2.561500   \n",
       "50%           5.523500      3.237000         3.599000   \n",
       "75%           5.979750      3.561750         4.768750   \n",
       "max           6.675000      4.033000         8.456000   \n",
       "\n",
       "       max_spent_in_single_shopping  \n",
       "count                    210.000000  \n",
       "mean                       5.408071  \n",
       "std                        0.491480  \n",
       "min                        4.519000  \n",
       "25%                        5.045000  \n",
       "50%                        5.223000  \n",
       "75%                        5.877000  \n",
       "max                        6.550000  "
      ]
     },
     "execution_count": 7,
     "metadata": {},
     "output_type": "execute_result"
    }
   ],
   "source": [
    "df.describe(include = \n",
    "           'all')"
   ]
  },
  {
   "cell_type": "code",
   "execution_count": 8,
   "id": "9693f7a0",
   "metadata": {},
   "outputs": [
    {
     "data": {
      "text/plain": [
       "spending                        float64\n",
       "advance_payments                float64\n",
       "probability_of_full_payment     float64\n",
       "current_balance                 float64\n",
       "credit_limit                    float64\n",
       "min_payment_amt                 float64\n",
       "max_spent_in_single_shopping    float64\n",
       "dtype: object"
      ]
     },
     "execution_count": 8,
     "metadata": {},
     "output_type": "execute_result"
    }
   ],
   "source": [
    "df.dtypes"
   ]
  },
  {
   "cell_type": "code",
   "execution_count": 9,
   "id": "3769ab03",
   "metadata": {},
   "outputs": [
    {
     "data": {
      "text/plain": [
       "spending                        0\n",
       "advance_payments                0\n",
       "probability_of_full_payment     0\n",
       "current_balance                 0\n",
       "credit_limit                    0\n",
       "min_payment_amt                 0\n",
       "max_spent_in_single_shopping    0\n",
       "dtype: int64"
      ]
     },
     "execution_count": 9,
     "metadata": {},
     "output_type": "execute_result"
    }
   ],
   "source": [
    "df.isnull().sum()"
   ]
  },
  {
   "cell_type": "code",
   "execution_count": 10,
   "id": "8d5abd68",
   "metadata": {},
   "outputs": [
    {
     "name": "stdout",
     "output_type": "stream",
     "text": [
      "Number of duplicate rows = 0\n"
     ]
    }
   ],
   "source": [
    "dups = df.duplicated()\n",
    "print('Number of duplicate rows = %d' % (dups.sum()))"
   ]
  },
  {
   "cell_type": "code",
   "execution_count": 11,
   "id": "bc173b58",
   "metadata": {},
   "outputs": [],
   "source": [
    "from sklearn.preprocessing import StandardScaler"
   ]
  },
  {
   "cell_type": "code",
   "execution_count": 12,
   "id": "716e0d14",
   "metadata": {},
   "outputs": [],
   "source": [
    "X = StandardScaler()"
   ]
  },
  {
   "cell_type": "code",
   "execution_count": 13,
   "id": "0d5e18a8",
   "metadata": {},
   "outputs": [],
   "source": [
    "scaled_df = pd.DataFrame(X.fit_transform(df), columns=df.columns)"
   ]
  },
  {
   "cell_type": "code",
   "execution_count": 14,
   "id": "705a9839",
   "metadata": {},
   "outputs": [
    {
     "data": {
      "text/html": [
       "<div>\n",
       "<style scoped>\n",
       "    .dataframe tbody tr th:only-of-type {\n",
       "        vertical-align: middle;\n",
       "    }\n",
       "\n",
       "    .dataframe tbody tr th {\n",
       "        vertical-align: top;\n",
       "    }\n",
       "\n",
       "    .dataframe thead th {\n",
       "        text-align: right;\n",
       "    }\n",
       "</style>\n",
       "<table border=\"1\" class=\"dataframe\">\n",
       "  <thead>\n",
       "    <tr style=\"text-align: right;\">\n",
       "      <th></th>\n",
       "      <th>spending</th>\n",
       "      <th>advance_payments</th>\n",
       "      <th>probability_of_full_payment</th>\n",
       "      <th>current_balance</th>\n",
       "      <th>credit_limit</th>\n",
       "      <th>min_payment_amt</th>\n",
       "      <th>max_spent_in_single_shopping</th>\n",
       "    </tr>\n",
       "  </thead>\n",
       "  <tbody>\n",
       "    <tr>\n",
       "      <th>0</th>\n",
       "      <td>1.754355</td>\n",
       "      <td>1.811968</td>\n",
       "      <td>0.178230</td>\n",
       "      <td>2.367533</td>\n",
       "      <td>1.338579</td>\n",
       "      <td>-0.298806</td>\n",
       "      <td>2.328998</td>\n",
       "    </tr>\n",
       "    <tr>\n",
       "      <th>1</th>\n",
       "      <td>0.393582</td>\n",
       "      <td>0.253840</td>\n",
       "      <td>1.501773</td>\n",
       "      <td>-0.600744</td>\n",
       "      <td>0.858236</td>\n",
       "      <td>-0.242805</td>\n",
       "      <td>-0.538582</td>\n",
       "    </tr>\n",
       "    <tr>\n",
       "      <th>2</th>\n",
       "      <td>1.413300</td>\n",
       "      <td>1.428192</td>\n",
       "      <td>0.504874</td>\n",
       "      <td>1.401485</td>\n",
       "      <td>1.317348</td>\n",
       "      <td>-0.221471</td>\n",
       "      <td>1.509107</td>\n",
       "    </tr>\n",
       "    <tr>\n",
       "      <th>3</th>\n",
       "      <td>-1.384034</td>\n",
       "      <td>-1.227533</td>\n",
       "      <td>-2.591878</td>\n",
       "      <td>-0.793049</td>\n",
       "      <td>-1.639017</td>\n",
       "      <td>0.987884</td>\n",
       "      <td>-0.454961</td>\n",
       "    </tr>\n",
       "    <tr>\n",
       "      <th>4</th>\n",
       "      <td>1.082581</td>\n",
       "      <td>0.998364</td>\n",
       "      <td>1.196340</td>\n",
       "      <td>0.591544</td>\n",
       "      <td>1.155464</td>\n",
       "      <td>-1.088154</td>\n",
       "      <td>0.874813</td>\n",
       "    </tr>\n",
       "  </tbody>\n",
       "</table>\n",
       "</div>"
      ],
      "text/plain": [
       "   spending  advance_payments  probability_of_full_payment  current_balance  \\\n",
       "0  1.754355          1.811968                     0.178230         2.367533   \n",
       "1  0.393582          0.253840                     1.501773        -0.600744   \n",
       "2  1.413300          1.428192                     0.504874         1.401485   \n",
       "3 -1.384034         -1.227533                    -2.591878        -0.793049   \n",
       "4  1.082581          0.998364                     1.196340         0.591544   \n",
       "\n",
       "   credit_limit  min_payment_amt  max_spent_in_single_shopping  \n",
       "0      1.338579        -0.298806                      2.328998  \n",
       "1      0.858236        -0.242805                     -0.538582  \n",
       "2      1.317348        -0.221471                      1.509107  \n",
       "3     -1.639017         0.987884                     -0.454961  \n",
       "4      1.155464        -1.088154                      0.874813  "
      ]
     },
     "execution_count": 14,
     "metadata": {},
     "output_type": "execute_result"
    }
   ],
   "source": [
    "scaled_df.head()"
   ]
  },
  {
   "cell_type": "code",
   "execution_count": 15,
   "id": "c09ab868",
   "metadata": {},
   "outputs": [],
   "source": [
    "from scipy.cluster.hierarchy import dendrogram, linkage"
   ]
  },
  {
   "cell_type": "code",
   "execution_count": 16,
   "id": "07b2c758",
   "metadata": {},
   "outputs": [],
   "source": [
    "link_method_ward = linkage(scaled_df, method = 'ward')"
   ]
  },
  {
   "cell_type": "code",
   "execution_count": 17,
   "id": "6acc8b2a",
   "metadata": {},
   "outputs": [
    {
     "data": {
      "image/png": "[encoded data removed]",
      "text/plain": [
       "<Figure size 432x288 with 1 Axes>"
      ]
     },
     "metadata": {
      "needs_background": "light"
     },
     "output_type": "display_data"
    }
   ],
   "source": [
    "dend = dendrogram(link_method_ward)"
   ]
  },
  {
   "cell_type": "code",
   "execution_count": 18,
   "id": "036be321",
   "metadata": {},
   "outputs": [
    {
     "data": {
      "image/png": "[encoded data removed]",
      "text/plain": [
       "<Figure size 432x288 with 1 Axes>"
      ]
     },
     "metadata": {
      "needs_background": "light"
     },
     "output_type": "display_data"
    }
   ],
   "source": [
    "dend = dendrogram(link_method_ward , truncate_mode = 'lastp'  , p = 8)"
   ]
  },
  {
   "cell_type": "code",
   "execution_count": 19,
   "id": "7cbe23cb",
   "metadata": {},
   "outputs": [],
   "source": [
    "from scipy.cluster.hierarchy import fcluster"
   ]
  },
  {
   "cell_type": "code",
   "execution_count": 20,
   "id": "02c2ab10",
   "metadata": {},
   "outputs": [
    {
     "data": {
      "text/plain": [
       "array([1, 3, 1, 2, 1, 2, 2, 3, 1, 2, 1, 3, 2, 1, 3, 2, 3, 2, 3, 2, 2, 2,\n",
       "       1, 2, 3, 1, 3, 2, 2, 2, 3, 2, 2, 3, 2, 2, 2, 2, 2, 1, 1, 3, 1, 1,\n",
       "       2, 2, 3, 1, 1, 1, 2, 1, 1, 1, 1, 1, 2, 2, 2, 1, 3, 2, 2, 3, 3, 1,\n",
       "       1, 3, 1, 2, 3, 2, 1, 1, 2, 1, 3, 2, 1, 3, 3, 3, 3, 1, 2, 3, 3, 1,\n",
       "       1, 2, 3, 1, 3, 2, 2, 1, 1, 1, 2, 1, 2, 1, 3, 1, 3, 1, 1, 2, 2, 1,\n",
       "       3, 3, 1, 2, 2, 1, 3, 3, 2, 1, 3, 2, 2, 2, 3, 3, 1, 2, 3, 3, 2, 3,\n",
       "       3, 1, 2, 1, 1, 2, 1, 3, 3, 3, 2, 2, 3, 2, 1, 2, 3, 2, 3, 2, 3, 3,\n",
       "       3, 3, 3, 2, 3, 1, 1, 2, 1, 1, 1, 2, 1, 3, 3, 3, 3, 2, 3, 1, 1, 1,\n",
       "       3, 3, 1, 2, 3, 3, 3, 3, 1, 1, 3, 3, 3, 2, 3, 3, 2, 1, 3, 1, 1, 2,\n",
       "       1, 2, 3, 1, 3, 2, 1, 3, 1, 3, 1, 3], dtype=int32)"
      ]
     },
     "execution_count": 20,
     "metadata": {},
     "output_type": "execute_result"
    }
   ],
   "source": [
    "clusters_ward = fcluster(link_method_ward , 3, criterion = 'maxclust')\n",
    "clusters_ward"
   ]
  },
  {
   "cell_type": "code",
   "execution_count": 21,
   "id": "91158a5e",
   "metadata": {},
   "outputs": [],
   "source": [
    "df['clusters_ward'] = clusters_ward"
   ]
  },
  {
   "cell_type": "code",
   "execution_count": 22,
   "id": "3047d25a",
   "metadata": {},
   "outputs": [
    {
     "data": {
      "text/html": [
       "<div>\n",
       "<style scoped>\n",
       "    .dataframe tbody tr th:only-of-type {\n",
       "        vertical-align: middle;\n",
       "    }\n",
       "\n",
       "    .dataframe tbody tr th {\n",
       "        vertical-align: top;\n",
       "    }\n",
       "\n",
       "    .dataframe thead th {\n",
       "        text-align: right;\n",
       "    }\n",
       "</style>\n",
       "<table border=\"1\" class=\"dataframe\">\n",
       "  <thead>\n",
       "    <tr style=\"text-align: right;\">\n",
       "      <th></th>\n",
       "      <th>spending</th>\n",
       "      <th>advance_payments</th>\n",
       "      <th>probability_of_full_payment</th>\n",
       "      <th>current_balance</th>\n",
       "      <th>credit_limit</th>\n",
       "      <th>min_payment_amt</th>\n",
       "      <th>max_spent_in_single_shopping</th>\n",
       "      <th>clusters_ward</th>\n",
       "    </tr>\n",
       "  </thead>\n",
       "  <tbody>\n",
       "    <tr>\n",
       "      <th>0</th>\n",
       "      <td>19.94</td>\n",
       "      <td>16.92</td>\n",
       "      <td>0.8752</td>\n",
       "      <td>6.675</td>\n",
       "      <td>3.763</td>\n",
       "      <td>3.252</td>\n",
       "      <td>6.550</td>\n",
       "      <td>1</td>\n",
       "    </tr>\n",
       "    <tr>\n",
       "      <th>1</th>\n",
       "      <td>15.99</td>\n",
       "      <td>14.89</td>\n",
       "      <td>0.9064</td>\n",
       "      <td>5.363</td>\n",
       "      <td>3.582</td>\n",
       "      <td>3.336</td>\n",
       "      <td>5.144</td>\n",
       "      <td>3</td>\n",
       "    </tr>\n",
       "    <tr>\n",
       "      <th>2</th>\n",
       "      <td>18.95</td>\n",
       "      <td>16.42</td>\n",
       "      <td>0.8829</td>\n",
       "      <td>6.248</td>\n",
       "      <td>3.755</td>\n",
       "      <td>3.368</td>\n",
       "      <td>6.148</td>\n",
       "      <td>1</td>\n",
       "    </tr>\n",
       "    <tr>\n",
       "      <th>3</th>\n",
       "      <td>10.83</td>\n",
       "      <td>12.96</td>\n",
       "      <td>0.8099</td>\n",
       "      <td>5.278</td>\n",
       "      <td>2.641</td>\n",
       "      <td>5.182</td>\n",
       "      <td>5.185</td>\n",
       "      <td>2</td>\n",
       "    </tr>\n",
       "    <tr>\n",
       "      <th>4</th>\n",
       "      <td>17.99</td>\n",
       "      <td>15.86</td>\n",
       "      <td>0.8992</td>\n",
       "      <td>5.890</td>\n",
       "      <td>3.694</td>\n",
       "      <td>2.068</td>\n",
       "      <td>5.837</td>\n",
       "      <td>1</td>\n",
       "    </tr>\n",
       "  </tbody>\n",
       "</table>\n",
       "</div>"
      ],
      "text/plain": [
       "   spending  advance_payments  probability_of_full_payment  current_balance  \\\n",
       "0     19.94             16.92                       0.8752            6.675   \n",
       "1     15.99             14.89                       0.9064            5.363   \n",
       "2     18.95             16.42                       0.8829            6.248   \n",
       "3     10.83             12.96                       0.8099            5.278   \n",
       "4     17.99             15.86                       0.8992            5.890   \n",
       "\n",
       "   credit_limit  min_payment_amt  max_spent_in_single_shopping  clusters_ward  \n",
       "0         3.763            3.252                         6.550              1  \n",
       "1         3.582            3.336                         5.144              3  \n",
       "2         3.755            3.368                         6.148              1  \n",
       "3         2.641            5.182                         5.185              2  \n",
       "4         3.694            2.068                         5.837              1  "
      ]
     },
     "execution_count": 22,
     "metadata": {},
     "output_type": "execute_result"
    }
   ],
   "source": [
    "df.head()"
   ]
  },
  {
   "cell_type": "code",
   "execution_count": 23,
   "id": "ec9d6fec",
   "metadata": {},
   "outputs": [
    {
     "data": {
      "text/html": [
       "<div>\n",
       "<style scoped>\n",
       "    .dataframe tbody tr th:only-of-type {\n",
       "        vertical-align: middle;\n",
       "    }\n",
       "\n",
       "    .dataframe tbody tr th {\n",
       "        vertical-align: top;\n",
       "    }\n",
       "\n",
       "    .dataframe thead th {\n",
       "        text-align: right;\n",
       "    }\n",
       "</style>\n",
       "<table border=\"1\" class=\"dataframe\">\n",
       "  <thead>\n",
       "    <tr style=\"text-align: right;\">\n",
       "      <th></th>\n",
       "      <th>spending</th>\n",
       "      <th>advance_payments</th>\n",
       "      <th>probability_of_full_payment</th>\n",
       "      <th>current_balance</th>\n",
       "      <th>credit_limit</th>\n",
       "      <th>min_payment_amt</th>\n",
       "      <th>max_spent_in_single_shopping</th>\n",
       "      <th>clusters_ward</th>\n",
       "    </tr>\n",
       "  </thead>\n",
       "  <tbody>\n",
       "    <tr>\n",
       "      <th>205</th>\n",
       "      <td>13.89</td>\n",
       "      <td>14.02</td>\n",
       "      <td>0.8880</td>\n",
       "      <td>5.439</td>\n",
       "      <td>3.199</td>\n",
       "      <td>3.986</td>\n",
       "      <td>4.738</td>\n",
       "      <td>3</td>\n",
       "    </tr>\n",
       "    <tr>\n",
       "      <th>206</th>\n",
       "      <td>16.77</td>\n",
       "      <td>15.62</td>\n",
       "      <td>0.8638</td>\n",
       "      <td>5.927</td>\n",
       "      <td>3.438</td>\n",
       "      <td>4.920</td>\n",
       "      <td>5.795</td>\n",
       "      <td>1</td>\n",
       "    </tr>\n",
       "    <tr>\n",
       "      <th>207</th>\n",
       "      <td>14.03</td>\n",
       "      <td>14.16</td>\n",
       "      <td>0.8796</td>\n",
       "      <td>5.438</td>\n",
       "      <td>3.201</td>\n",
       "      <td>1.717</td>\n",
       "      <td>5.001</td>\n",
       "      <td>3</td>\n",
       "    </tr>\n",
       "    <tr>\n",
       "      <th>208</th>\n",
       "      <td>16.12</td>\n",
       "      <td>15.00</td>\n",
       "      <td>0.9000</td>\n",
       "      <td>5.709</td>\n",
       "      <td>3.485</td>\n",
       "      <td>2.270</td>\n",
       "      <td>5.443</td>\n",
       "      <td>1</td>\n",
       "    </tr>\n",
       "    <tr>\n",
       "      <th>209</th>\n",
       "      <td>15.57</td>\n",
       "      <td>15.15</td>\n",
       "      <td>0.8527</td>\n",
       "      <td>5.920</td>\n",
       "      <td>3.231</td>\n",
       "      <td>2.640</td>\n",
       "      <td>5.879</td>\n",
       "      <td>3</td>\n",
       "    </tr>\n",
       "  </tbody>\n",
       "</table>\n",
       "</div>"
      ],
      "text/plain": [
       "     spending  advance_payments  probability_of_full_payment  current_balance  \\\n",
       "205     13.89             14.02                       0.8880            5.439   \n",
       "206     16.77             15.62                       0.8638            5.927   \n",
       "207     14.03             14.16                       0.8796            5.438   \n",
       "208     16.12             15.00                       0.9000            5.709   \n",
       "209     15.57             15.15                       0.8527            5.920   \n",
       "\n",
       "     credit_limit  min_payment_amt  max_spent_in_single_shopping  \\\n",
       "205         3.199            3.986                         4.738   \n",
       "206         3.438            4.920                         5.795   \n",
       "207         3.201            1.717                         5.001   \n",
       "208         3.485            2.270                         5.443   \n",
       "209         3.231            2.640                         5.879   \n",
       "\n",
       "     clusters_ward  \n",
       "205              3  \n",
       "206              1  \n",
       "207              3  \n",
       "208              1  \n",
       "209              3  "
      ]
     },
     "execution_count": 23,
     "metadata": {},
     "output_type": "execute_result"
    }
   ],
   "source": [
    "df.tail()"
   ]
  },
  {
   "cell_type": "code",
   "execution_count": 24,
   "id": "fdc29a21",
   "metadata": {},
   "outputs": [
    {
     "data": {
      "text/plain": [
       "1    70\n",
       "2    67\n",
       "3    73\n",
       "Name: clusters_ward, dtype: int64"
      ]
     },
     "execution_count": 24,
     "metadata": {},
     "output_type": "execute_result"
    }
   ],
   "source": [
    "df.clusters_ward.value_counts().sort_index()"
   ]
  },
  {
   "cell_type": "code",
   "execution_count": 25,
   "id": "c71abfc4",
   "metadata": {},
   "outputs": [
    {
     "data": {
      "text/html": [
       "<div>\n",
       "<style scoped>\n",
       "    .dataframe tbody tr th:only-of-type {\n",
       "        vertical-align: middle;\n",
       "    }\n",
       "\n",
       "    .dataframe tbody tr th {\n",
       "        vertical-align: top;\n",
       "    }\n",
       "\n",
       "    .dataframe thead th {\n",
       "        text-align: right;\n",
       "    }\n",
       "</style>\n",
       "<table border=\"1\" class=\"dataframe\">\n",
       "  <thead>\n",
       "    <tr style=\"text-align: right;\">\n",
       "      <th></th>\n",
       "      <th>spending</th>\n",
       "      <th>advance_payments</th>\n",
       "      <th>probability_of_full_payment</th>\n",
       "      <th>current_balance</th>\n",
       "      <th>credit_limit</th>\n",
       "      <th>min_payment_amt</th>\n",
       "      <th>max_spent_in_single_shopping</th>\n",
       "      <th>Freq</th>\n",
       "    </tr>\n",
       "    <tr>\n",
       "      <th>clusters_ward</th>\n",
       "      <th></th>\n",
       "      <th></th>\n",
       "      <th></th>\n",
       "      <th></th>\n",
       "      <th></th>\n",
       "      <th></th>\n",
       "      <th></th>\n",
       "      <th></th>\n",
       "    </tr>\n",
       "  </thead>\n",
       "  <tbody>\n",
       "    <tr>\n",
       "      <th>1</th>\n",
       "      <td>18.371429</td>\n",
       "      <td>16.145429</td>\n",
       "      <td>0.884400</td>\n",
       "      <td>6.158171</td>\n",
       "      <td>3.684629</td>\n",
       "      <td>3.639157</td>\n",
       "      <td>6.017371</td>\n",
       "      <td>70</td>\n",
       "    </tr>\n",
       "    <tr>\n",
       "      <th>2</th>\n",
       "      <td>11.872388</td>\n",
       "      <td>13.257015</td>\n",
       "      <td>0.848072</td>\n",
       "      <td>5.238940</td>\n",
       "      <td>2.848537</td>\n",
       "      <td>4.949433</td>\n",
       "      <td>5.122209</td>\n",
       "      <td>67</td>\n",
       "    </tr>\n",
       "    <tr>\n",
       "      <th>3</th>\n",
       "      <td>14.199041</td>\n",
       "      <td>14.233562</td>\n",
       "      <td>0.879190</td>\n",
       "      <td>5.478233</td>\n",
       "      <td>3.226452</td>\n",
       "      <td>2.612181</td>\n",
       "      <td>5.086178</td>\n",
       "      <td>73</td>\n",
       "    </tr>\n",
       "  </tbody>\n",
       "</table>\n",
       "</div>"
      ],
      "text/plain": [
       "                spending  advance_payments  probability_of_full_payment  \\\n",
       "clusters_ward                                                             \n",
       "1              18.371429         16.145429                     0.884400   \n",
       "2              11.872388         13.257015                     0.848072   \n",
       "3              14.199041         14.233562                     0.879190   \n",
       "\n",
       "               current_balance  credit_limit  min_payment_amt  \\\n",
       "clusters_ward                                                   \n",
       "1                     6.158171      3.684629         3.639157   \n",
       "2                     5.238940      2.848537         4.949433   \n",
       "3                     5.478233      3.226452         2.612181   \n",
       "\n",
       "               max_spent_in_single_shopping  Freq  \n",
       "clusters_ward                                      \n",
       "1                                  6.017371    70  \n",
       "2                                  5.122209    67  \n",
       "3                                  5.086178    73  "
      ]
     },
     "execution_count": 25,
     "metadata": {},
     "output_type": "execute_result"
    }
   ],
   "source": [
    "aggdata= df.groupby('clusters_ward').mean()\n",
    "aggdata['Freq']= df.clusters_ward.value_counts().sort_index()\n",
    "aggdata"
   ]
  },
  {
   "cell_type": "code",
   "execution_count": 26,
   "id": "acbd70e9",
   "metadata": {},
   "outputs": [],
   "source": [
    "link_method_average = linkage(scaled_df, method = 'average')"
   ]
  },
  {
   "cell_type": "code",
   "execution_count": 27,
   "id": "4fd726c6",
   "metadata": {},
   "outputs": [
    {
     "data": {
      "image/png": "[encoded data removed]",
      "text/plain": [
       "<Figure size 432x288 with 1 Axes>"
      ]
     },
     "metadata": {
      "needs_background": "light"
     },
     "output_type": "display_data"
    }
   ],
   "source": [
    "dend_average = dendrogram(link_method_average)"
   ]
  },
  {
   "cell_type": "code",
   "execution_count": 30,
   "id": "d68d89e6",
   "metadata": {},
   "outputs": [
    {
     "data": {
      "image/png": "[encoded data removed]",
      "text/plain": [
       "<Figure size 432x288 with 1 Axes>"
      ]
     },
     "metadata": {
      "needs_background": "light"
     },
     "output_type": "display_data"
    }
   ],
   "source": [
    "dend_average = dendrogram(link_method_average , truncate_mode = 'lastp'  , p = 5)"
   ]
  },
  {
   "cell_type": "code",
   "execution_count": 31,
   "id": "5422d034",
   "metadata": {},
   "outputs": [
    {
     "data": {
      "text/plain": [
       "array([1, 2, 1, 2, 1, 2, 2, 2, 1, 2, 1, 2, 2, 1, 2, 2, 2, 2, 2, 2, 2, 2,\n",
       "       1, 2, 2, 1, 2, 2, 2, 2, 2, 2, 2, 2, 2, 2, 2, 2, 2, 1, 1, 2, 1, 1,\n",
       "       2, 2, 2, 1, 1, 1, 2, 1, 1, 1, 1, 1, 2, 2, 2, 1, 2, 2, 2, 2, 2, 1,\n",
       "       1, 2, 1, 2, 2, 2, 1, 1, 2, 1, 2, 2, 1, 2, 2, 2, 2, 1, 2, 2, 2, 1,\n",
       "       1, 2, 2, 1, 2, 2, 2, 1, 1, 1, 2, 1, 2, 1, 2, 1, 2, 1, 1, 2, 2, 1,\n",
       "       2, 2, 1, 2, 2, 1, 2, 2, 2, 1, 2, 2, 2, 2, 2, 2, 1, 2, 2, 2, 2, 2,\n",
       "       2, 1, 2, 1, 1, 2, 1, 2, 2, 2, 2, 2, 2, 2, 1, 2, 2, 2, 2, 2, 2, 2,\n",
       "       2, 2, 2, 2, 2, 1, 1, 2, 1, 1, 1, 2, 1, 2, 2, 2, 2, 2, 2, 1, 1, 1,\n",
       "       2, 2, 1, 2, 2, 2, 2, 2, 1, 1, 2, 2, 2, 2, 2, 2, 2, 1, 2, 1, 1, 2,\n",
       "       1, 2, 2, 1, 2, 2, 1, 2, 1, 2, 1, 2], dtype=int32)"
      ]
     },
     "execution_count": 31,
     "metadata": {},
     "output_type": "execute_result"
    }
   ],
   "source": [
    "clusters_average = fcluster(link_method_ward , 2, criterion = 'maxclust')\n",
    "clusters_average"
   ]
  },
  {
   "cell_type": "code",
   "execution_count": 32,
   "id": "eaa1695e",
   "metadata": {},
   "outputs": [],
   "source": [
    "df['clusters_average'] = clusters_average"
   ]
  },
  {
   "cell_type": "code",
   "execution_count": 33,
   "id": "098f15bf",
   "metadata": {},
   "outputs": [
    {
     "data": {
      "text/html": [
       "<div>\n",
       "<style scoped>\n",
       "    .dataframe tbody tr th:only-of-type {\n",
       "        vertical-align: middle;\n",
       "    }\n",
       "\n",
       "    .dataframe tbody tr th {\n",
       "        vertical-align: top;\n",
       "    }\n",
       "\n",
       "    .dataframe thead th {\n",
       "        text-align: right;\n",
       "    }\n",
       "</style>\n",
       "<table border=\"1\" class=\"dataframe\">\n",
       "  <thead>\n",
       "    <tr style=\"text-align: right;\">\n",
       "      <th></th>\n",
       "      <th>spending</th>\n",
       "      <th>advance_payments</th>\n",
       "      <th>probability_of_full_payment</th>\n",
       "      <th>current_balance</th>\n",
       "      <th>credit_limit</th>\n",
       "      <th>min_payment_amt</th>\n",
       "      <th>max_spent_in_single_shopping</th>\n",
       "      <th>clusters_ward</th>\n",
       "      <th>clusters_average</th>\n",
       "    </tr>\n",
       "  </thead>\n",
       "  <tbody>\n",
       "    <tr>\n",
       "      <th>0</th>\n",
       "      <td>19.94</td>\n",
       "      <td>16.92</td>\n",
       "      <td>0.8752</td>\n",
       "      <td>6.675</td>\n",
       "      <td>3.763</td>\n",
       "      <td>3.252</td>\n",
       "      <td>6.550</td>\n",
       "      <td>1</td>\n",
       "      <td>1</td>\n",
       "    </tr>\n",
       "    <tr>\n",
       "      <th>1</th>\n",
       "      <td>15.99</td>\n",
       "      <td>14.89</td>\n",
       "      <td>0.9064</td>\n",
       "      <td>5.363</td>\n",
       "      <td>3.582</td>\n",
       "      <td>3.336</td>\n",
       "      <td>5.144</td>\n",
       "      <td>3</td>\n",
       "      <td>2</td>\n",
       "    </tr>\n",
       "    <tr>\n",
       "      <th>2</th>\n",
       "      <td>18.95</td>\n",
       "      <td>16.42</td>\n",
       "      <td>0.8829</td>\n",
       "      <td>6.248</td>\n",
       "      <td>3.755</td>\n",
       "      <td>3.368</td>\n",
       "      <td>6.148</td>\n",
       "      <td>1</td>\n",
       "      <td>1</td>\n",
       "    </tr>\n",
       "    <tr>\n",
       "      <th>3</th>\n",
       "      <td>10.83</td>\n",
       "      <td>12.96</td>\n",
       "      <td>0.8099</td>\n",
       "      <td>5.278</td>\n",
       "      <td>2.641</td>\n",
       "      <td>5.182</td>\n",
       "      <td>5.185</td>\n",
       "      <td>2</td>\n",
       "      <td>2</td>\n",
       "    </tr>\n",
       "    <tr>\n",
       "      <th>4</th>\n",
       "      <td>17.99</td>\n",
       "      <td>15.86</td>\n",
       "      <td>0.8992</td>\n",
       "      <td>5.890</td>\n",
       "      <td>3.694</td>\n",
       "      <td>2.068</td>\n",
       "      <td>5.837</td>\n",
       "      <td>1</td>\n",
       "      <td>1</td>\n",
       "    </tr>\n",
       "  </tbody>\n",
       "</table>\n",
       "</div>"
      ],
      "text/plain": [
       "   spending  advance_payments  probability_of_full_payment  current_balance  \\\n",
       "0     19.94             16.92                       0.8752            6.675   \n",
       "1     15.99             14.89                       0.9064            5.363   \n",
       "2     18.95             16.42                       0.8829            6.248   \n",
       "3     10.83             12.96                       0.8099            5.278   \n",
       "4     17.99             15.86                       0.8992            5.890   \n",
       "\n",
       "   credit_limit  min_payment_amt  max_spent_in_single_shopping  clusters_ward  \\\n",
       "0         3.763            3.252                         6.550              1   \n",
       "1         3.582            3.336                         5.144              3   \n",
       "2         3.755            3.368                         6.148              1   \n",
       "3         2.641            5.182                         5.185              2   \n",
       "4         3.694            2.068                         5.837              1   \n",
       "\n",
       "   clusters_average  \n",
       "0                 1  \n",
       "1                 2  \n",
       "2                 1  \n",
       "3                 2  \n",
       "4                 1  "
      ]
     },
     "execution_count": 33,
     "metadata": {},
     "output_type": "execute_result"
    }
   ],
   "source": [
    "df.head()"
   ]
  },
  {
   "cell_type": "code",
   "execution_count": 34,
   "id": "0d70fadf",
   "metadata": {},
   "outputs": [
    {
     "data": {
      "text/html": [
       "<div>\n",
       "<style scoped>\n",
       "    .dataframe tbody tr th:only-of-type {\n",
       "        vertical-align: middle;\n",
       "    }\n",
       "\n",
       "    .dataframe tbody tr th {\n",
       "        vertical-align: top;\n",
       "    }\n",
       "\n",
       "    .dataframe thead th {\n",
       "        text-align: right;\n",
       "    }\n",
       "</style>\n",
       "<table border=\"1\" class=\"dataframe\">\n",
       "  <thead>\n",
       "    <tr style=\"text-align: right;\">\n",
       "      <th></th>\n",
       "      <th>spending</th>\n",
       "      <th>advance_payments</th>\n",
       "      <th>probability_of_full_payment</th>\n",
       "      <th>current_balance</th>\n",
       "      <th>credit_limit</th>\n",
       "      <th>min_payment_amt</th>\n",
       "      <th>max_spent_in_single_shopping</th>\n",
       "      <th>clusters_ward</th>\n",
       "      <th>clusters_average</th>\n",
       "    </tr>\n",
       "  </thead>\n",
       "  <tbody>\n",
       "    <tr>\n",
       "      <th>205</th>\n",
       "      <td>13.89</td>\n",
       "      <td>14.02</td>\n",
       "      <td>0.8880</td>\n",
       "      <td>5.439</td>\n",
       "      <td>3.199</td>\n",
       "      <td>3.986</td>\n",
       "      <td>4.738</td>\n",
       "      <td>3</td>\n",
       "      <td>2</td>\n",
       "    </tr>\n",
       "    <tr>\n",
       "      <th>206</th>\n",
       "      <td>16.77</td>\n",
       "      <td>15.62</td>\n",
       "      <td>0.8638</td>\n",
       "      <td>5.927</td>\n",
       "      <td>3.438</td>\n",
       "      <td>4.920</td>\n",
       "      <td>5.795</td>\n",
       "      <td>1</td>\n",
       "      <td>1</td>\n",
       "    </tr>\n",
       "    <tr>\n",
       "      <th>207</th>\n",
       "      <td>14.03</td>\n",
       "      <td>14.16</td>\n",
       "      <td>0.8796</td>\n",
       "      <td>5.438</td>\n",
       "      <td>3.201</td>\n",
       "      <td>1.717</td>\n",
       "      <td>5.001</td>\n",
       "      <td>3</td>\n",
       "      <td>2</td>\n",
       "    </tr>\n",
       "    <tr>\n",
       "      <th>208</th>\n",
       "      <td>16.12</td>\n",
       "      <td>15.00</td>\n",
       "      <td>0.9000</td>\n",
       "      <td>5.709</td>\n",
       "      <td>3.485</td>\n",
       "      <td>2.270</td>\n",
       "      <td>5.443</td>\n",
       "      <td>1</td>\n",
       "      <td>1</td>\n",
       "    </tr>\n",
       "    <tr>\n",
       "      <th>209</th>\n",
       "      <td>15.57</td>\n",
       "      <td>15.15</td>\n",
       "      <td>0.8527</td>\n",
       "      <td>5.920</td>\n",
       "      <td>3.231</td>\n",
       "      <td>2.640</td>\n",
       "      <td>5.879</td>\n",
       "      <td>3</td>\n",
       "      <td>2</td>\n",
       "    </tr>\n",
       "  </tbody>\n",
       "</table>\n",
       "</div>"
      ],
      "text/plain": [
       "     spending  advance_payments  probability_of_full_payment  current_balance  \\\n",
       "205     13.89             14.02                       0.8880            5.439   \n",
       "206     16.77             15.62                       0.8638            5.927   \n",
       "207     14.03             14.16                       0.8796            5.438   \n",
       "208     16.12             15.00                       0.9000            5.709   \n",
       "209     15.57             15.15                       0.8527            5.920   \n",
       "\n",
       "     credit_limit  min_payment_amt  max_spent_in_single_shopping  \\\n",
       "205         3.199            3.986                         4.738   \n",
       "206         3.438            4.920                         5.795   \n",
       "207         3.201            1.717                         5.001   \n",
       "208         3.485            2.270                         5.443   \n",
       "209         3.231            2.640                         5.879   \n",
       "\n",
       "     clusters_ward  clusters_average  \n",
       "205              3                 2  \n",
       "206              1                 1  \n",
       "207              3                 2  \n",
       "208              1                 1  \n",
       "209              3                 2  "
      ]
     },
     "execution_count": 34,
     "metadata": {},
     "output_type": "execute_result"
    }
   ],
   "source": [
    "df.tail()"
   ]
  },
  {
   "cell_type": "code",
   "execution_count": 35,
   "id": "d11fdfbb",
   "metadata": {},
   "outputs": [
    {
     "data": {
      "text/plain": [
       "1     70\n",
       "2    140\n",
       "Name: clusters_average, dtype: int64"
      ]
     },
     "execution_count": 35,
     "metadata": {},
     "output_type": "execute_result"
    }
   ],
   "source": [
    "df.clusters_average.value_counts().sort_index()"
   ]
  },
  {
   "cell_type": "code",
   "execution_count": 37,
   "id": "7a9327af",
   "metadata": {},
   "outputs": [
    {
     "data": {
      "text/plain": [
       "array([1, 3, 1, 2, 1, 2, 2, 3, 1, 2, 1, 3, 2, 1, 3, 2, 3, 2, 3, 2, 2, 2,\n",
       "       1, 2, 3, 1, 3, 2, 2, 2, 3, 2, 2, 3, 2, 2, 2, 2, 2, 1, 1, 3, 1, 1,\n",
       "       2, 2, 3, 1, 1, 1, 2, 1, 1, 1, 1, 1, 2, 2, 2, 1, 3, 2, 2, 3, 3, 1,\n",
       "       1, 3, 1, 2, 3, 2, 1, 1, 2, 1, 3, 2, 1, 3, 3, 3, 3, 1, 2, 3, 3, 1,\n",
       "       1, 2, 3, 1, 3, 2, 2, 1, 1, 1, 2, 1, 2, 1, 3, 1, 3, 1, 1, 2, 2, 1,\n",
       "       3, 3, 1, 2, 2, 1, 3, 3, 2, 1, 3, 2, 2, 2, 3, 3, 1, 2, 3, 3, 2, 3,\n",
       "       3, 1, 2, 1, 1, 2, 1, 3, 3, 3, 2, 2, 3, 2, 1, 2, 3, 2, 3, 2, 3, 3,\n",
       "       3, 3, 3, 2, 3, 1, 1, 2, 1, 1, 1, 2, 1, 3, 3, 3, 3, 2, 3, 1, 1, 1,\n",
       "       3, 3, 1, 2, 3, 3, 3, 3, 1, 1, 3, 3, 3, 2, 3, 3, 2, 1, 3, 1, 1, 2,\n",
       "       1, 2, 3, 1, 3, 2, 1, 3, 1, 3, 1, 3], dtype=int32)"
      ]
     },
     "execution_count": 37,
     "metadata": {},
     "output_type": "execute_result"
    }
   ],
   "source": [
    "clusters_average = fcluster(link_method_ward , 3, criterion = 'maxclust')\n",
    "clusters_average"
   ]
  },
  {
   "cell_type": "code",
   "execution_count": 38,
   "id": "e5aec372",
   "metadata": {},
   "outputs": [],
   "source": [
    "df['clusters_average'] = clusters_average"
   ]
  },
  {
   "cell_type": "code",
   "execution_count": 39,
   "id": "34b4d6fe",
   "metadata": {},
   "outputs": [
    {
     "data": {
      "text/plain": [
       "1    70\n",
       "2    67\n",
       "3    73\n",
       "Name: clusters_average, dtype: int64"
      ]
     },
     "execution_count": 39,
     "metadata": {},
     "output_type": "execute_result"
    }
   ],
   "source": [
    "df.clusters_average.value_counts().sort_index()"
   ]
  },
  {
   "cell_type": "code",
   "execution_count": 40,
   "id": "6c7e89c3",
   "metadata": {},
   "outputs": [
    {
     "data": {
      "text/html": [
       "<div>\n",
       "<style scoped>\n",
       "    .dataframe tbody tr th:only-of-type {\n",
       "        vertical-align: middle;\n",
       "    }\n",
       "\n",
       "    .dataframe tbody tr th {\n",
       "        vertical-align: top;\n",
       "    }\n",
       "\n",
       "    .dataframe thead th {\n",
       "        text-align: right;\n",
       "    }\n",
       "</style>\n",
       "<table border=\"1\" class=\"dataframe\">\n",
       "  <thead>\n",
       "    <tr style=\"text-align: right;\">\n",
       "      <th></th>\n",
       "      <th>spending</th>\n",
       "      <th>advance_payments</th>\n",
       "      <th>probability_of_full_payment</th>\n",
       "      <th>current_balance</th>\n",
       "      <th>credit_limit</th>\n",
       "      <th>min_payment_amt</th>\n",
       "      <th>max_spent_in_single_shopping</th>\n",
       "      <th>Freq</th>\n",
       "    </tr>\n",
       "    <tr>\n",
       "      <th>clusters_average</th>\n",
       "      <th></th>\n",
       "      <th></th>\n",
       "      <th></th>\n",
       "      <th></th>\n",
       "      <th></th>\n",
       "      <th></th>\n",
       "      <th></th>\n",
       "      <th></th>\n",
       "    </tr>\n",
       "  </thead>\n",
       "  <tbody>\n",
       "    <tr>\n",
       "      <th>1</th>\n",
       "      <td>18.371429</td>\n",
       "      <td>16.145429</td>\n",
       "      <td>0.884400</td>\n",
       "      <td>6.158171</td>\n",
       "      <td>3.684629</td>\n",
       "      <td>3.639157</td>\n",
       "      <td>6.017371</td>\n",
       "      <td>70</td>\n",
       "    </tr>\n",
       "    <tr>\n",
       "      <th>2</th>\n",
       "      <td>11.872388</td>\n",
       "      <td>13.257015</td>\n",
       "      <td>0.848072</td>\n",
       "      <td>5.238940</td>\n",
       "      <td>2.848537</td>\n",
       "      <td>4.949433</td>\n",
       "      <td>5.122209</td>\n",
       "      <td>67</td>\n",
       "    </tr>\n",
       "    <tr>\n",
       "      <th>3</th>\n",
       "      <td>14.199041</td>\n",
       "      <td>14.233562</td>\n",
       "      <td>0.879190</td>\n",
       "      <td>5.478233</td>\n",
       "      <td>3.226452</td>\n",
       "      <td>2.612181</td>\n",
       "      <td>5.086178</td>\n",
       "      <td>73</td>\n",
       "    </tr>\n",
       "  </tbody>\n",
       "</table>\n",
       "</div>"
      ],
      "text/plain": [
       "                   spending  advance_payments  probability_of_full_payment  \\\n",
       "clusters_average                                                             \n",
       "1                 18.371429         16.145429                     0.884400   \n",
       "2                 11.872388         13.257015                     0.848072   \n",
       "3                 14.199041         14.233562                     0.879190   \n",
       "\n",
       "                  current_balance  credit_limit  min_payment_amt  \\\n",
       "clusters_average                                                   \n",
       "1                        6.158171      3.684629         3.639157   \n",
       "2                        5.238940      2.848537         4.949433   \n",
       "3                        5.478233      3.226452         2.612181   \n",
       "\n",
       "                  max_spent_in_single_shopping  Freq  \n",
       "clusters_average                                      \n",
       "1                                     6.017371    70  \n",
       "2                                     5.122209    67  \n",
       "3                                     5.086178    73  "
      ]
     },
     "execution_count": 40,
     "metadata": {},
     "output_type": "execute_result"
    }
   ],
   "source": [
    "aggdata= df.drop([\"clusters_ward\"],axis = 1).groupby('clusters_average').mean()\n",
    "aggdata['Freq']= df.drop([\"clusters_ward\"],axis = 1).clusters_average.value_counts().sort_index()\n",
    "aggdata"
   ]
  },
  {
   "cell_type": "markdown",
   "id": "9c614ca8",
   "metadata": {},
   "source": [
    "# K means"
   ]
  },
  {
   "cell_type": "code",
   "execution_count": 47,
   "id": "73453b76",
   "metadata": {},
   "outputs": [],
   "source": [
    "k_means = KMeans(n_clusters = 3 , random_state = 1)"
   ]
  },
  {
   "cell_type": "code",
   "execution_count": 48,
   "id": "b96986ab",
   "metadata": {},
   "outputs": [
    {
     "data": {
      "text/plain": [
       "KMeans(n_clusters=3, random_state=1)"
      ]
     },
     "execution_count": 48,
     "metadata": {},
     "output_type": "execute_result"
    }
   ],
   "source": [
    "k_means.fit(scaled_df)"
   ]
  },
  {
   "cell_type": "code",
   "execution_count": 50,
   "id": "dc4448c7",
   "metadata": {},
   "outputs": [
    {
     "data": {
      "text/plain": [
       "array([1, 2, 1, 0, 1, 0, 0, 2, 1, 0, 1, 2, 0, 1, 2, 0, 2, 0, 0, 0, 0, 0,\n",
       "       1, 0, 2, 1, 2, 0, 0, 0, 2, 0, 0, 2, 0, 0, 0, 0, 0, 1, 1, 2, 1, 1,\n",
       "       0, 0, 2, 1, 1, 1, 0, 1, 1, 1, 1, 1, 0, 0, 0, 1, 2, 0, 0, 2, 2, 1,\n",
       "       1, 2, 1, 0, 2, 0, 1, 1, 0, 1, 2, 0, 1, 2, 2, 2, 2, 1, 0, 2, 1, 2,\n",
       "       1, 0, 2, 1, 2, 0, 0, 1, 1, 1, 0, 1, 2, 1, 2, 1, 2, 1, 1, 0, 0, 1,\n",
       "       2, 2, 1, 0, 0, 1, 2, 2, 0, 1, 2, 0, 0, 0, 2, 2, 1, 0, 2, 2, 0, 2,\n",
       "       2, 1, 0, 1, 1, 0, 1, 2, 2, 2, 0, 0, 2, 0, 1, 0, 2, 0, 2, 0, 2, 2,\n",
       "       0, 2, 2, 0, 2, 1, 1, 0, 1, 1, 1, 0, 2, 2, 2, 0, 2, 0, 2, 1, 1, 1,\n",
       "       2, 0, 2, 0, 2, 2, 2, 2, 1, 1, 0, 2, 2, 0, 0, 2, 0, 1, 2, 1, 1, 0,\n",
       "       1, 0, 2, 1, 2, 0, 1, 2, 1, 2, 2, 2])"
      ]
     },
     "execution_count": 50,
     "metadata": {},
     "output_type": "execute_result"
    }
   ],
   "source": [
    "k_means.labels_"
   ]
  },
  {
   "cell_type": "code",
   "execution_count": 51,
   "id": "eb043c21",
   "metadata": {},
   "outputs": [
    {
     "data": {
      "text/plain": [
       "430.65897315130064"
      ]
     },
     "execution_count": 51,
     "metadata": {},
     "output_type": "execute_result"
    }
   ],
   "source": [
    "k_means.inertia_"
   ]
  },
  {
   "cell_type": "code",
   "execution_count": 60,
   "id": "856f7100",
   "metadata": {},
   "outputs": [
    {
     "name": "stdout",
     "output_type": "stream",
     "text": [
      "For 1 number of cluster - 1469.9999999999995\n",
      "For 2 number of cluster - 659.1717544870411\n",
      "For 3 number of cluster - 430.65897315130064\n",
      "For 4 number of cluster - 371.301721277542\n",
      "For 5 number of cluster - 327.9608240079031\n",
      "For 6 number of cluster - 290.5900305968219\n",
      "For 7 number of cluster - 264.83153087478144\n",
      "For 8 number of cluster - 240.6837259501598\n",
      "For 9 number of cluster - 220.85285825594738\n",
      "For 10 number of cluster - 206.3829103601579\n",
      "For 11 number of cluster - 189.63846645656452\n",
      "For 12 number of cluster - 183.7346487390484\n",
      "For 13 number of cluster - 172.1598950620133\n",
      "For 14 number of cluster - 167.07845249676527\n",
      "For 15 number of cluster - 158.07648199029748\n",
      "For 16 number of cluster - 149.8595909007651\n",
      "For 17 number of cluster - 142.92371683932512\n",
      "For 18 number of cluster - 137.7206943340959\n",
      "For 19 number of cluster - 133.49605677155398\n",
      "For 20 number of cluster - 127.49168186267876\n",
      "For 21 number of cluster - 122.72259401832262\n",
      "For 22 number of cluster - 119.03230566151\n",
      "For 23 number of cluster - 113.60640974575696\n",
      "For 24 number of cluster - 106.58658443350717\n",
      "For 25 number of cluster - 105.73149514412664\n",
      "For 26 number of cluster - 102.85079351794917\n",
      "For 27 number of cluster - 99.75461351077409\n",
      "For 28 number of cluster - 97.4654623683612\n",
      "For 29 number of cluster - 93.40039165323044\n"
     ]
    }
   ],
   "source": [
    "for i in range(1,30,1):\n",
    "    k_means = KMeans(n_clusters = i, random_state = 1)\n",
    "    k_means.fit(scaled_df)\n",
    "    print(\"For {} number of cluster - {}\".format(i,k_means.inertia_))"
   ]
  },
  {
   "cell_type": "markdown",
   "id": "25a0786d",
   "metadata": {},
   "source": [
    "### wss reduces as k keeps increasing"
   ]
  },
  {
   "cell_type": "code",
   "execution_count": 64,
   "id": "e590c806",
   "metadata": {},
   "outputs": [],
   "source": [
    "wss = []\n",
    "for i in range(1,11):\n",
    "    k_means = KMeans(n_clusters=i,random_state=1)\n",
    "    k_means.fit(scaled_df)\n",
    "    wss.append(k_means.inertia_)"
   ]
  },
  {
   "cell_type": "code",
   "execution_count": 65,
   "id": "41ae4293",
   "metadata": {},
   "outputs": [],
   "source": [
    "a=[1,2,3,4,5,6,7,8,9,10]"
   ]
  },
  {
   "cell_type": "code",
   "execution_count": 68,
   "id": "c75a23ce",
   "metadata": {},
   "outputs": [
    {
     "name": "stderr",
     "output_type": "stream",
     "text": [
      "c:\\python\\lib\\site-packages\\seaborn\\_decorators.py:36: FutureWarning: Pass the following variables as keyword args: x, y. From version 0.12, the only valid positional argument will be `data`, and passing other arguments without an explicit keyword will result in an error or misinterpretation.\n",
      "  warnings.warn(\n"
     ]
    },
    {
     "data": {
      "text/plain": [
       "<AxesSubplot:>"
      ]
     },
     "execution_count": 68,
     "metadata": {},
     "output_type": "execute_result"
    },
    {
     "data": {
      "image/png": "[encoded data removed]",
      "text/plain": [
       "<Figure size 432x288 with 1 Axes>"
      ]
     },
     "metadata": {
      "needs_background": "light"
     },
     "output_type": "display_data"
    }
   ],
   "source": [
    "sns.pointplot(a, wss)"
   ]
  },
  {
   "cell_type": "code",
   "execution_count": 69,
   "id": "d18b5634",
   "metadata": {},
   "outputs": [
    {
     "data": {
      "text/plain": [
       "[<matplotlib.lines.Line2D at 0x23dde6cec70>]"
      ]
     },
     "execution_count": 69,
     "metadata": {},
     "output_type": "execute_result"
    },
    {
     "data": {
      "image/png": "[encoded data removed]",
      "text/plain": [
       "<Figure size 432x288 with 1 Axes>"
      ]
     },
     "metadata": {
      "needs_background": "light"
     },
     "output_type": "display_data"
    }
   ],
   "source": [
    "plt.plot(range(1,11), wss)"
   ]
  },
  {
   "cell_type": "code",
   "execution_count": 71,
   "id": "b620d7da",
   "metadata": {},
   "outputs": [],
   "source": [
    "k_means = KMeans(n_clusters = 3,random_state=1)\n",
    "k_means.fit(scaled_df)\n",
    "labels = k_means.labels_"
   ]
  },
  {
   "cell_type": "code",
   "execution_count": 73,
   "id": "ee4e2e08",
   "metadata": {},
   "outputs": [],
   "source": [
    "from sklearn.metrics import silhouette_samples, silhouette_score"
   ]
  },
  {
   "cell_type": "code",
   "execution_count": 74,
   "id": "3c8e1f4d",
   "metadata": {},
   "outputs": [
    {
     "data": {
      "text/plain": [
       "0.40072705527512986"
      ]
     },
     "execution_count": 74,
     "metadata": {},
     "output_type": "execute_result"
    }
   ],
   "source": [
    "silhouette_score(scaled_df,labels,random_state=1)"
   ]
  },
  {
   "cell_type": "code",
   "execution_count": 75,
   "id": "406a5c8d",
   "metadata": {},
   "outputs": [],
   "source": [
    "k_means = KMeans(n_clusters = 4,random_state=1)\n",
    "k_means.fit(scaled_df)\n",
    "labels = k_means.labels_"
   ]
  },
  {
   "cell_type": "code",
   "execution_count": 76,
   "id": "d71f153e",
   "metadata": {},
   "outputs": [
    {
     "data": {
      "text/plain": [
       "0.32757426605518075"
      ]
     },
     "execution_count": 76,
     "metadata": {},
     "output_type": "execute_result"
    }
   ],
   "source": [
    "silhouette_score(scaled_df,labels,random_state=1)"
   ]
  },
  {
   "cell_type": "code",
   "execution_count": 82,
   "id": "34d99fbc",
   "metadata": {},
   "outputs": [],
   "source": [
    "k_means = KMeans(n_clusters = 3,random_state=1)\n",
    "k_means.fit(scaled_df)\n",
    "labels = k_means.labels_"
   ]
  },
  {
   "cell_type": "code",
   "execution_count": 83,
   "id": "21f42f76",
   "metadata": {},
   "outputs": [
    {
     "data": {
      "text/html": [
       "<div>\n",
       "<style scoped>\n",
       "    .dataframe tbody tr th:only-of-type {\n",
       "        vertical-align: middle;\n",
       "    }\n",
       "\n",
       "    .dataframe tbody tr th {\n",
       "        vertical-align: top;\n",
       "    }\n",
       "\n",
       "    .dataframe thead th {\n",
       "        text-align: right;\n",
       "    }\n",
       "</style>\n",
       "<table border=\"1\" class=\"dataframe\">\n",
       "  <thead>\n",
       "    <tr style=\"text-align: right;\">\n",
       "      <th></th>\n",
       "      <th>spending</th>\n",
       "      <th>advance_payments</th>\n",
       "      <th>probability_of_full_payment</th>\n",
       "      <th>current_balance</th>\n",
       "      <th>credit_limit</th>\n",
       "      <th>min_payment_amt</th>\n",
       "      <th>max_spent_in_single_shopping</th>\n",
       "      <th>clusters_ward</th>\n",
       "      <th>clusters_average</th>\n",
       "      <th>cluster_kmeans</th>\n",
       "    </tr>\n",
       "  </thead>\n",
       "  <tbody>\n",
       "    <tr>\n",
       "      <th>0</th>\n",
       "      <td>19.94</td>\n",
       "      <td>16.92</td>\n",
       "      <td>0.8752</td>\n",
       "      <td>6.675</td>\n",
       "      <td>3.763</td>\n",
       "      <td>3.252</td>\n",
       "      <td>6.550</td>\n",
       "      <td>1</td>\n",
       "      <td>1</td>\n",
       "      <td>1</td>\n",
       "    </tr>\n",
       "    <tr>\n",
       "      <th>1</th>\n",
       "      <td>15.99</td>\n",
       "      <td>14.89</td>\n",
       "      <td>0.9064</td>\n",
       "      <td>5.363</td>\n",
       "      <td>3.582</td>\n",
       "      <td>3.336</td>\n",
       "      <td>5.144</td>\n",
       "      <td>3</td>\n",
       "      <td>3</td>\n",
       "      <td>2</td>\n",
       "    </tr>\n",
       "    <tr>\n",
       "      <th>2</th>\n",
       "      <td>18.95</td>\n",
       "      <td>16.42</td>\n",
       "      <td>0.8829</td>\n",
       "      <td>6.248</td>\n",
       "      <td>3.755</td>\n",
       "      <td>3.368</td>\n",
       "      <td>6.148</td>\n",
       "      <td>1</td>\n",
       "      <td>1</td>\n",
       "      <td>1</td>\n",
       "    </tr>\n",
       "    <tr>\n",
       "      <th>3</th>\n",
       "      <td>10.83</td>\n",
       "      <td>12.96</td>\n",
       "      <td>0.8099</td>\n",
       "      <td>5.278</td>\n",
       "      <td>2.641</td>\n",
       "      <td>5.182</td>\n",
       "      <td>5.185</td>\n",
       "      <td>2</td>\n",
       "      <td>2</td>\n",
       "      <td>0</td>\n",
       "    </tr>\n",
       "    <tr>\n",
       "      <th>4</th>\n",
       "      <td>17.99</td>\n",
       "      <td>15.86</td>\n",
       "      <td>0.8992</td>\n",
       "      <td>5.890</td>\n",
       "      <td>3.694</td>\n",
       "      <td>2.068</td>\n",
       "      <td>5.837</td>\n",
       "      <td>1</td>\n",
       "      <td>1</td>\n",
       "      <td>1</td>\n",
       "    </tr>\n",
       "  </tbody>\n",
       "</table>\n",
       "</div>"
      ],
      "text/plain": [
       "   spending  advance_payments  probability_of_full_payment  current_balance  \\\n",
       "0     19.94             16.92                       0.8752            6.675   \n",
       "1     15.99             14.89                       0.9064            5.363   \n",
       "2     18.95             16.42                       0.8829            6.248   \n",
       "3     10.83             12.96                       0.8099            5.278   \n",
       "4     17.99             15.86                       0.8992            5.890   \n",
       "\n",
       "   credit_limit  min_payment_amt  max_spent_in_single_shopping  clusters_ward  \\\n",
       "0         3.763            3.252                         6.550              1   \n",
       "1         3.582            3.336                         5.144              3   \n",
       "2         3.755            3.368                         6.148              1   \n",
       "3         2.641            5.182                         5.185              2   \n",
       "4         3.694            2.068                         5.837              1   \n",
       "\n",
       "   clusters_average  cluster_kmeans  \n",
       "0                 1               1  \n",
       "1                 3               2  \n",
       "2                 1               1  \n",
       "3                 2               0  \n",
       "4                 1               1  "
      ]
     },
     "execution_count": 83,
     "metadata": {},
     "output_type": "execute_result"
    }
   ],
   "source": [
    "df[\"cluster_kmeans\"] = labels\n",
    "df.head()"
   ]
  },
  {
   "cell_type": "code",
   "execution_count": 84,
   "id": "be3ee09a",
   "metadata": {},
   "outputs": [
    {
     "data": {
      "text/html": [
       "<div>\n",
       "<style scoped>\n",
       "    .dataframe tbody tr th:only-of-type {\n",
       "        vertical-align: middle;\n",
       "    }\n",
       "\n",
       "    .dataframe tbody tr th {\n",
       "        vertical-align: top;\n",
       "    }\n",
       "\n",
       "    .dataframe thead th {\n",
       "        text-align: right;\n",
       "    }\n",
       "</style>\n",
       "<table border=\"1\" class=\"dataframe\">\n",
       "  <thead>\n",
       "    <tr style=\"text-align: right;\">\n",
       "      <th></th>\n",
       "      <th>spending</th>\n",
       "      <th>advance_payments</th>\n",
       "      <th>probability_of_full_payment</th>\n",
       "      <th>current_balance</th>\n",
       "      <th>credit_limit</th>\n",
       "      <th>min_payment_amt</th>\n",
       "      <th>max_spent_in_single_shopping</th>\n",
       "    </tr>\n",
       "  </thead>\n",
       "  <tbody>\n",
       "    <tr>\n",
       "      <th>0</th>\n",
       "      <td>19.94</td>\n",
       "      <td>16.92</td>\n",
       "      <td>0.8752</td>\n",
       "      <td>6.675</td>\n",
       "      <td>3.763</td>\n",
       "      <td>3.252</td>\n",
       "      <td>6.550</td>\n",
       "    </tr>\n",
       "    <tr>\n",
       "      <th>1</th>\n",
       "      <td>15.99</td>\n",
       "      <td>14.89</td>\n",
       "      <td>0.9064</td>\n",
       "      <td>5.363</td>\n",
       "      <td>3.582</td>\n",
       "      <td>3.336</td>\n",
       "      <td>5.144</td>\n",
       "    </tr>\n",
       "    <tr>\n",
       "      <th>2</th>\n",
       "      <td>18.95</td>\n",
       "      <td>16.42</td>\n",
       "      <td>0.8829</td>\n",
       "      <td>6.248</td>\n",
       "      <td>3.755</td>\n",
       "      <td>3.368</td>\n",
       "      <td>6.148</td>\n",
       "    </tr>\n",
       "    <tr>\n",
       "      <th>3</th>\n",
       "      <td>10.83</td>\n",
       "      <td>12.96</td>\n",
       "      <td>0.8099</td>\n",
       "      <td>5.278</td>\n",
       "      <td>2.641</td>\n",
       "      <td>5.182</td>\n",
       "      <td>5.185</td>\n",
       "    </tr>\n",
       "    <tr>\n",
       "      <th>4</th>\n",
       "      <td>17.99</td>\n",
       "      <td>15.86</td>\n",
       "      <td>0.8992</td>\n",
       "      <td>5.890</td>\n",
       "      <td>3.694</td>\n",
       "      <td>2.068</td>\n",
       "      <td>5.837</td>\n",
       "    </tr>\n",
       "  </tbody>\n",
       "</table>\n",
       "</div>"
      ],
      "text/plain": [
       "   spending  advance_payments  probability_of_full_payment  current_balance  \\\n",
       "0     19.94             16.92                       0.8752            6.675   \n",
       "1     15.99             14.89                       0.9064            5.363   \n",
       "2     18.95             16.42                       0.8829            6.248   \n",
       "3     10.83             12.96                       0.8099            5.278   \n",
       "4     17.99             15.86                       0.8992            5.890   \n",
       "\n",
       "   credit_limit  min_payment_amt  max_spent_in_single_shopping  \n",
       "0         3.763            3.252                         6.550  \n",
       "1         3.582            3.336                         5.144  \n",
       "2         3.755            3.368                         6.148  \n",
       "3         2.641            5.182                         5.185  \n",
       "4         3.694            2.068                         5.837  "
      ]
     },
     "execution_count": 84,
     "metadata": {},
     "output_type": "execute_result"
    }
   ],
   "source": [
    "df.iloc[:,:7].head()"
   ]
  },
  {
   "cell_type": "code",
   "execution_count": 85,
   "id": "b3b4aa56",
   "metadata": {},
   "outputs": [
    {
     "data": {
      "text/plain": [
       "0    72\n",
       "1    67\n",
       "2    71\n",
       "Name: cluster_kmeans, dtype: int64"
      ]
     },
     "execution_count": 85,
     "metadata": {},
     "output_type": "execute_result"
    }
   ],
   "source": [
    "df.cluster_kmeans.value_counts().sort_index()"
   ]
  },
  {
   "cell_type": "code",
   "execution_count": 87,
   "id": "5befe33b",
   "metadata": {},
   "outputs": [
    {
     "data": {
      "text/html": [
       "<div>\n",
       "<style scoped>\n",
       "    .dataframe tbody tr th:only-of-type {\n",
       "        vertical-align: middle;\n",
       "    }\n",
       "\n",
       "    .dataframe tbody tr th {\n",
       "        vertical-align: top;\n",
       "    }\n",
       "\n",
       "    .dataframe thead th {\n",
       "        text-align: right;\n",
       "    }\n",
       "</style>\n",
       "<table border=\"1\" class=\"dataframe\">\n",
       "  <thead>\n",
       "    <tr style=\"text-align: right;\">\n",
       "      <th></th>\n",
       "      <th>spending</th>\n",
       "      <th>advance_payments</th>\n",
       "      <th>probability_of_full_payment</th>\n",
       "      <th>current_balance</th>\n",
       "      <th>credit_limit</th>\n",
       "      <th>min_payment_amt</th>\n",
       "      <th>max_spent_in_single_shopping</th>\n",
       "      <th>freq</th>\n",
       "    </tr>\n",
       "    <tr>\n",
       "      <th>cluster_kmeans</th>\n",
       "      <th></th>\n",
       "      <th></th>\n",
       "      <th></th>\n",
       "      <th></th>\n",
       "      <th></th>\n",
       "      <th></th>\n",
       "      <th></th>\n",
       "      <th></th>\n",
       "    </tr>\n",
       "  </thead>\n",
       "  <tbody>\n",
       "    <tr>\n",
       "      <th>0</th>\n",
       "      <td>11.856944</td>\n",
       "      <td>13.247778</td>\n",
       "      <td>0.848253</td>\n",
       "      <td>5.231750</td>\n",
       "      <td>2.849542</td>\n",
       "      <td>4.742389</td>\n",
       "      <td>5.101722</td>\n",
       "      <td>72</td>\n",
       "    </tr>\n",
       "    <tr>\n",
       "      <th>1</th>\n",
       "      <td>18.495373</td>\n",
       "      <td>16.203433</td>\n",
       "      <td>0.884210</td>\n",
       "      <td>6.175687</td>\n",
       "      <td>3.697537</td>\n",
       "      <td>3.632373</td>\n",
       "      <td>6.041701</td>\n",
       "      <td>67</td>\n",
       "    </tr>\n",
       "    <tr>\n",
       "      <th>2</th>\n",
       "      <td>14.437887</td>\n",
       "      <td>14.337746</td>\n",
       "      <td>0.881597</td>\n",
       "      <td>5.514577</td>\n",
       "      <td>3.259225</td>\n",
       "      <td>2.707341</td>\n",
       "      <td>5.120803</td>\n",
       "      <td>71</td>\n",
       "    </tr>\n",
       "  </tbody>\n",
       "</table>\n",
       "</div>"
      ],
      "text/plain": [
       "                 spending  advance_payments  probability_of_full_payment  \\\n",
       "cluster_kmeans                                                             \n",
       "0               11.856944         13.247778                     0.848253   \n",
       "1               18.495373         16.203433                     0.884210   \n",
       "2               14.437887         14.337746                     0.881597   \n",
       "\n",
       "                current_balance  credit_limit  min_payment_amt  \\\n",
       "cluster_kmeans                                                   \n",
       "0                      5.231750      2.849542         4.742389   \n",
       "1                      6.175687      3.697537         3.632373   \n",
       "2                      5.514577      3.259225         2.707341   \n",
       "\n",
       "                max_spent_in_single_shopping  freq  \n",
       "cluster_kmeans                                      \n",
       "0                                   5.101722    72  \n",
       "1                                   6.041701    67  \n",
       "2                                   5.120803    71  "
      ]
     },
     "execution_count": 87,
     "metadata": {},
     "output_type": "execute_result"
    }
   ],
   "source": [
    "clust_profile = df.drop(['clusters_ward' , 'clusters_average'],axis=1)\n",
    "clust_profile = clust_profile.groupby('cluster_kmeans').mean()\n",
    "clust_profile['freq'] = df.cluster_kmeans.value_counts().sort_index()\n",
    "clust_profile"
   ]
  },
  {
   "cell_type": "code",
   "execution_count": null,
   "id": "e8086d08",
   "metadata": {},
   "outputs": [],
   "source": []
  }
 ],
 "metadata": {
  "kernelspec": {
   "display_name": "Python 3",
   "language": "python",
   "name": "python3"
  },
  "language_info": {
   "codemirror_mode": {
    "name": "ipython",
    "version": 3
   },
   "file_extension": ".py",
   "mimetype": "text/x-python",
   "name": "python",
   "nbconvert_exporter": "python",
   "pygments_lexer": "ipython3",
   "version": "3.9.5"
  }
 },
 "nbformat": 4,
 "nbformat_minor": 5
}
